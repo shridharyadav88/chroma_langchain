{
 "cells": [
  {
   "cell_type": "code",
   "execution_count": null,
   "metadata": {},
   "outputs": [],
   "source": [
    "from config import GOOGLE_AI_API_KEY\n",
    "\n",
    "from langchain.document_loaders import DirectoryLoader, TextLoader\n",
    "from langchain.text_splitter import RecursiveCharacterTextSplitter\n",
    "\n",
    "from langchain.embeddings import GooglePalmEmbeddings\n",
    "from langchain.vectorstores import Chroma\n",
    "\n",
    "from langchain.chains import RetrievalQA\n",
    "from langchain.chat_models import ChatGooglePalm\n",
    "from langchain.prompts import PromptTemplate\n",
    "from langchain.prompts import ChatPromptTemplate\n",
    "import pandas as pd"
   ]
  },
  {
   "cell_type": "code",
   "execution_count": 48,
   "metadata": {},
   "outputs": [],
   "source": [
    "llm = ChatGooglePalm(google_api_key=GOOGLE_AI_API_KEY, temperature=0.0)"
   ]
  },
  {
   "cell_type": "code",
   "execution_count": 49,
   "metadata": {},
   "outputs": [],
   "source": [
    "from langchain.chains import LLMChain"
   ]
  },
  {
   "cell_type": "code",
   "execution_count": 50,
   "metadata": {},
   "outputs": [
    {
     "data": {
      "text/plain": [
       "'Here are some good names for a company that makes organic non GMO millets:\\n\\n* **Organic Millets**\\n* **Non GMO Millets**\\n* **Organic Non GMO Millets**\\n* **Millets Direct**\\n* **Millets USA**\\n* **Millets World**\\n* **Millets Market**\\n* **Millets Source**\\n* **Millets Supply**\\n* **Millets Company**\\n* **Millets Corporation**\\n* **Millets Enterprises**\\n* **Millets Inc.**\\n* **Millets LLC**\\n* **Millets Group**\\n* **Millets Holdings**\\n* **Millets Farms**\\n* **Millets Gardens**\\n* **Millets Plantations**\\n* **Millets Distributors**\\n* **Millets Retailers**\\n* **Millets Wholesalers**\\n* **Millets Exporters**\\n* **Millets Importers**\\n* **Millets Processors**\\n* **Millets Manufacturers**\\n* **Millets Marketers**\\n* **Millets Branders**\\n* **Millets Retailers**\\n* **Millets Distributors**\\n* **Millets Exporters**\\n* **Millets Importers**\\n* **Millets Processors**\\n* **Millets Manufacturers**\\n* **Millets Marketers**\\n* **Millets Branders**'"
      ]
     },
     "execution_count": 50,
     "metadata": {},
     "output_type": "execute_result"
    }
   ],
   "source": [
    "prompt = ChatPromptTemplate.from_template(\"What is the best name to describe a \\\n",
    "                                          company that makes {product}. \\\n",
    "                                        Give just the name and nothing else.\\\n",
    "                                        Do not include any description or reasoning\")\n",
    "\n",
    "chain = LLMChain(llm = llm, prompt = prompt)\n",
    "\n",
    "product  = \"Organic Non GMO Millets\"\n",
    "chain.run(product)"
   ]
  },
  {
   "cell_type": "code",
   "execution_count": 31,
   "metadata": {},
   "outputs": [],
   "source": [
    "# Simple Sequential Chain\n",
    "# Simple Sequence chain works nicely to sequence one output as another's input\n",
    "# To use multiple inputs into the chain use normal sequential chain\n",
    "from langchain.chains import SimpleSequentialChain\n",
    "\n",
    "first_prompt = ChatPromptTemplate.from_template(\"What is the best name to describe a \\\n",
    "                                          company that makes {product}. \\\n",
    "                                        Give just the name and nothing else.\\\n",
    "                                        Do not include any description or reasoning\")\n",
    "\n",
    "chain_one = LLMChain(llm = llm, prompt = first_prompt)"
   ]
  },
  {
   "cell_type": "code",
   "execution_count": 12,
   "metadata": {},
   "outputs": [],
   "source": [
    "second_prompt = ChatPromptTemplate.from_template(\"Write a 20 words description for the following company {company}\")\n",
    "chain_two = LLMChain(llm = llm, prompt = second_prompt)"
   ]
  },
  {
   "cell_type": "code",
   "execution_count": 13,
   "metadata": {},
   "outputs": [],
   "source": [
    "simple_seq_chain = SimpleSequentialChain(chains = [chain_one, chain_two], verbose=True)"
   ]
  },
  {
   "cell_type": "code",
   "execution_count": 14,
   "metadata": {},
   "outputs": [
    {
     "name": "stdout",
     "output_type": "stream",
     "text": [
      "\n",
      "\n",
      "\u001b[1m> Entering new SimpleSequentialChain chain...\u001b[0m\n",
      "\u001b[36;1m\u001b[1;3mHere are some good names for a company that makes organic non GMO millets:\n",
      "\n",
      "* **Organic Millets**\n",
      "* **Non GMO Millets**\n",
      "* **Organic Non GMO Millets**\n",
      "* **Millets Direct**\n",
      "* **Millets USA**\n",
      "* **Millets World**\n",
      "* **Millets Market**\n",
      "* **Millets Source**\n",
      "* **Millets Supply**\n",
      "* **Millets Company**\n",
      "* **Millets Corporation**\n",
      "* **Millets Enterprises**\n",
      "* **Millets Inc.**\n",
      "* **Millets LLC**\n",
      "* **Millets Group**\n",
      "* **Millets Holdings**\n",
      "* **Millets Farms**\n",
      "* **Millets Gardens**\n",
      "* **Millets Plantations**\n",
      "* **Millets Distributors**\n",
      "* **Millets Retailers**\n",
      "* **Millets Wholesalers**\n",
      "* **Millets Exporters**\n",
      "* **Millets Importers**\n",
      "* **Millets Processors**\n",
      "* **Millets Manufacturers**\n",
      "* **Millets Marketers**\n",
      "* **Millets Branders**\n",
      "* **Millets Retailers**\n",
      "* **Millets Distributors**\n",
      "* **Millets Exporters**\n",
      "* **Millets Importers**\n",
      "* **Millets Processors**\n",
      "* **Millets Manufacturers**\n",
      "* **Millets Marketers**\n",
      "* **Millets Branders**\u001b[0m\n",
      "\u001b[33;1m\u001b[1;3mHere are some 20-word descriptions for a company that makes organic non GMO millets:\n",
      "\n",
      "* **Organic Millets: The Healthy Grain**\n",
      "* **Non GMO Millets: The Natural Choice**\n",
      "* **Organic Non GMO Millets: The Sustainable Option**\n",
      "* **Millets Direct: The Source for Organic Millets**\n",
      "* **Millets USA: The Leading Provider of Organic Millets**\n",
      "* **Millets World: The Global Source for Organic Millets**\n",
      "* **Millets Market: The Best Place to Buy Organic Millets**\n",
      "* **Millets Source: The One-Stop Shop for Organic Millets**\n",
      "* **Millets Supply: The Reliable Source for Organic Millets**\n",
      "* **Millets Company: The Pioneer of Organic Millets**\n",
      "* **Millets Corporation: The Leader in Organic Millets**\n",
      "* **Millets Enterprises: The Best Value in Organic Millets**\n",
      "* **Millets Inc.: The Most Trusted Source for Organic Millets**\n",
      "* **Millets LLC: The Most Convenient Source for Organic Millets**\n",
      "* **Millets Group: The Most Comprehensive Source for Organic Millets**\n",
      "* **Millets Holdings: The Most Reliable Source for Organic Millets**\n",
      "* **Millets Farms: The Most Sustainable Source for Organic Millets**\n",
      "* **Millets Gardens: The Most Organic Source for Organic Millets**\n",
      "* **Millets Plantations: The Most Natural Source for Organic Millets**\n",
      "* **Millets Distributors: The Most Trusted Source for Organic Millets**\n",
      "* **Millets Retailers: The Most Convenient Source for Organic Millets**\n",
      "* **Millets Wholesalers: The Most Comprehensive Source for Organic Millets**\n",
      "* **Millets Exporters: The Most Reliable Source for Organic Millets**\n",
      "* **Millets Importers: The Most Sustainable Source for Organic Millets**\n",
      "* **Millets Processors: The Most Organic Source for Organic Millets**\n",
      "* **Millets Manufacturers: The Most Natural Source for Organic Millets**\n",
      "* **Millets Marketers: The Most Trusted Source for Organic Millets**\n",
      "* **Millets Branders: The Most Convenient Source for Organic Millets**\u001b[0m\n",
      "\n",
      "\u001b[1m> Finished chain.\u001b[0m\n"
     ]
    },
    {
     "data": {
      "text/plain": [
       "'Here are some 20-word descriptions for a company that makes organic non GMO millets:\\n\\n* **Organic Millets: The Healthy Grain**\\n* **Non GMO Millets: The Natural Choice**\\n* **Organic Non GMO Millets: The Sustainable Option**\\n* **Millets Direct: The Source for Organic Millets**\\n* **Millets USA: The Leading Provider of Organic Millets**\\n* **Millets World: The Global Source for Organic Millets**\\n* **Millets Market: The Best Place to Buy Organic Millets**\\n* **Millets Source: The One-Stop Shop for Organic Millets**\\n* **Millets Supply: The Reliable Source for Organic Millets**\\n* **Millets Company: The Pioneer of Organic Millets**\\n* **Millets Corporation: The Leader in Organic Millets**\\n* **Millets Enterprises: The Best Value in Organic Millets**\\n* **Millets Inc.: The Most Trusted Source for Organic Millets**\\n* **Millets LLC: The Most Convenient Source for Organic Millets**\\n* **Millets Group: The Most Comprehensive Source for Organic Millets**\\n* **Millets Holdings: The Most Reliable Source for Organic Millets**\\n* **Millets Farms: The Most Sustainable Source for Organic Millets**\\n* **Millets Gardens: The Most Organic Source for Organic Millets**\\n* **Millets Plantations: The Most Natural Source for Organic Millets**\\n* **Millets Distributors: The Most Trusted Source for Organic Millets**\\n* **Millets Retailers: The Most Convenient Source for Organic Millets**\\n* **Millets Wholesalers: The Most Comprehensive Source for Organic Millets**\\n* **Millets Exporters: The Most Reliable Source for Organic Millets**\\n* **Millets Importers: The Most Sustainable Source for Organic Millets**\\n* **Millets Processors: The Most Organic Source for Organic Millets**\\n* **Millets Manufacturers: The Most Natural Source for Organic Millets**\\n* **Millets Marketers: The Most Trusted Source for Organic Millets**\\n* **Millets Branders: The Most Convenient Source for Organic Millets**'"
      ]
     },
     "execution_count": 14,
     "metadata": {},
     "output_type": "execute_result"
    }
   ],
   "source": [
    "simple_seq_chain.run(product)"
   ]
  },
  {
   "cell_type": "code",
   "execution_count": 41,
   "metadata": {},
   "outputs": [
    {
     "data": {
      "text/plain": [
       "'Ram Navami is a Hindu festival that celebrates the birth of Rama, the seventh avatar of Vishnu. It is one of the most important festivals in Hinduism and is celebrated with great pomp and show across India.\\n\\nThe festival falls on the ninth day of the Chaitra month in the Hindu calendar, which usually falls in April or May. On this day, Hindus visit temples to offer prayers to Rama and his wife Sita. They also take part in processions and other cultural events.\\n\\nRam Navami is a time for family and friends to come together and celebrate the birth of one of the most popular deities in Hinduism. It is also a time to reflect on the teachings of Rama, who is known for his righteousness and compassion.\\n\\nHere are some of the ways that Ram Navami is celebrated:\\n\\n* **Visiting temples:** Hindus visit temples to offer prayers to Rama and Sita. They also light candles and incense sticks and sing devotional songs.\\n* **Taking part in processions:** In some parts of India, people take part in processions that carry idols of Rama and Sita. The processions are often accompanied by music and dancing.\\n* **Wearing new clothes:** Hindus often wear new clothes on Ram Navami. This is a way to show their respect for the deity and to celebrate the occasion.\\n* **Eating special food:** On Ram Navami, Hindus often eat special food that is prepared for the occasion. This food may include sweets, such as ladoos, and savory dishes, such as biryani.\\n* **Giving gifts:** It is customary to give gifts to friends and family on Ram Navami. These gifts may be anything from clothes to sweets.\\n\\nRam Navami is a time for joy and celebration. It is a time to come together with family and friends and to celebrate the birth of one of the most popular deities in Hinduism.'"
      ]
     },
     "execution_count": 41,
     "metadata": {},
     "output_type": "execute_result"
    }
   ],
   "source": [
    "from langchain.chains import SequentialChain\n",
    "\n",
    "multilingual_text = \"\"\"Ram navami\"\"\"\n",
    "\n",
    "first_prompt = ChatPromptTemplate.from_template(\"Describe this festival {multilingual_text}\")\n",
    "\n",
    "chain_one = LLMChain(llm=llm, prompt = first_prompt, output_key=\"English_Translation\")\n",
    "chain_one.run(multilingual_text)"
   ]
  },
  {
   "cell_type": "code",
   "execution_count": 42,
   "metadata": {},
   "outputs": [],
   "source": [
    "second_prompt = ChatPromptTemplate.from_template(\"Can you summarize the above text {English_Translation}\")\n",
    "chain_two = LLMChain(llm = llm, prompt=second_prompt, output_key=\"summary\")"
   ]
  },
  {
   "cell_type": "code",
   "execution_count": 43,
   "metadata": {},
   "outputs": [],
   "source": [
    "third_prompt = ChatPromptTemplate.from_template(\"What is the language in this text which is not english: {multilingual_text}\")\n",
    "chain_three = LLMChain(llm = llm, prompt=third_prompt, output_key=\"language\")"
   ]
  },
  {
   "cell_type": "code",
   "execution_count": 44,
   "metadata": {},
   "outputs": [],
   "source": [
    "fourth_prompt = ChatPromptTemplate.from_template(\"Tranlate this summary in this language {language}\")\n",
    "chain_four = LLMChain(llm = llm, prompt=fourth_prompt, output_key=\"laguage_summary\")"
   ]
  },
  {
   "cell_type": "code",
   "execution_count": 45,
   "metadata": {},
   "outputs": [],
   "source": [
    "overall_chain = SequentialChain(\n",
    "    chains=[chain_one, chain_two, chain_three, chain_four],\n",
    "    input_variables=[\"multilingual_text\"],\n",
    "    output_variables=[\"English_Translation\", \"summary\", \"language\", \"laguage_summary\"],\n",
    "    verbose=True\n",
    "    )"
   ]
  },
  {
   "cell_type": "code",
   "execution_count": 46,
   "metadata": {},
   "outputs": [
    {
     "name": "stdout",
     "output_type": "stream",
     "text": [
      "\n",
      "\n",
      "\u001b[1m> Entering new SequentialChain chain...\u001b[0m\n"
     ]
    },
    {
     "ename": "ChatGooglePalmError",
     "evalue": "ChatResponse must have at least one candidate.",
     "output_type": "error",
     "traceback": [
      "\u001b[1;31m---------------------------------------------------------------------------\u001b[0m",
      "\u001b[1;31mChatGooglePalmError\u001b[0m                       Traceback (most recent call last)",
      "Cell \u001b[1;32mIn[46], line 1\u001b[0m\n\u001b[1;32m----> 1\u001b[0m \u001b[43moverall_chain\u001b[49m\u001b[43m(\u001b[49m\u001b[43mmultilingual_text\u001b[49m\u001b[43m)\u001b[49m\n",
      "File \u001b[1;32mc:\\Users\\shridhar\\Documents\\Shridhar\\Projects\\Langchain\\env_LangChain\\lib\\site-packages\\langchain\\chains\\base.py:312\u001b[0m, in \u001b[0;36mChain.__call__\u001b[1;34m(self, inputs, return_only_outputs, callbacks, tags, metadata, run_name, include_run_info)\u001b[0m\n\u001b[0;32m    310\u001b[0m \u001b[38;5;28;01mexcept\u001b[39;00m \u001b[38;5;167;01mBaseException\u001b[39;00m \u001b[38;5;28;01mas\u001b[39;00m e:\n\u001b[0;32m    311\u001b[0m     run_manager\u001b[38;5;241m.\u001b[39mon_chain_error(e)\n\u001b[1;32m--> 312\u001b[0m     \u001b[38;5;28;01mraise\u001b[39;00m e\n\u001b[0;32m    313\u001b[0m run_manager\u001b[38;5;241m.\u001b[39mon_chain_end(outputs)\n\u001b[0;32m    314\u001b[0m final_outputs: Dict[\u001b[38;5;28mstr\u001b[39m, Any] \u001b[38;5;241m=\u001b[39m \u001b[38;5;28mself\u001b[39m\u001b[38;5;241m.\u001b[39mprep_outputs(\n\u001b[0;32m    315\u001b[0m     inputs, outputs, return_only_outputs\n\u001b[0;32m    316\u001b[0m )\n",
      "File \u001b[1;32mc:\\Users\\shridhar\\Documents\\Shridhar\\Projects\\Langchain\\env_LangChain\\lib\\site-packages\\langchain\\chains\\base.py:306\u001b[0m, in \u001b[0;36mChain.__call__\u001b[1;34m(self, inputs, return_only_outputs, callbacks, tags, metadata, run_name, include_run_info)\u001b[0m\n\u001b[0;32m    299\u001b[0m run_manager \u001b[38;5;241m=\u001b[39m callback_manager\u001b[38;5;241m.\u001b[39mon_chain_start(\n\u001b[0;32m    300\u001b[0m     dumpd(\u001b[38;5;28mself\u001b[39m),\n\u001b[0;32m    301\u001b[0m     inputs,\n\u001b[0;32m    302\u001b[0m     name\u001b[38;5;241m=\u001b[39mrun_name,\n\u001b[0;32m    303\u001b[0m )\n\u001b[0;32m    304\u001b[0m \u001b[38;5;28;01mtry\u001b[39;00m:\n\u001b[0;32m    305\u001b[0m     outputs \u001b[38;5;241m=\u001b[39m (\n\u001b[1;32m--> 306\u001b[0m         \u001b[38;5;28;43mself\u001b[39;49m\u001b[38;5;241;43m.\u001b[39;49m\u001b[43m_call\u001b[49m\u001b[43m(\u001b[49m\u001b[43minputs\u001b[49m\u001b[43m,\u001b[49m\u001b[43m \u001b[49m\u001b[43mrun_manager\u001b[49m\u001b[38;5;241;43m=\u001b[39;49m\u001b[43mrun_manager\u001b[49m\u001b[43m)\u001b[49m\n\u001b[0;32m    307\u001b[0m         \u001b[38;5;28;01mif\u001b[39;00m new_arg_supported\n\u001b[0;32m    308\u001b[0m         \u001b[38;5;28;01melse\u001b[39;00m \u001b[38;5;28mself\u001b[39m\u001b[38;5;241m.\u001b[39m_call(inputs)\n\u001b[0;32m    309\u001b[0m     )\n\u001b[0;32m    310\u001b[0m \u001b[38;5;28;01mexcept\u001b[39;00m \u001b[38;5;167;01mBaseException\u001b[39;00m \u001b[38;5;28;01mas\u001b[39;00m e:\n\u001b[0;32m    311\u001b[0m     run_manager\u001b[38;5;241m.\u001b[39mon_chain_error(e)\n",
      "File \u001b[1;32mc:\\Users\\shridhar\\Documents\\Shridhar\\Projects\\Langchain\\env_LangChain\\lib\\site-packages\\langchain\\chains\\sequential.py:105\u001b[0m, in \u001b[0;36mSequentialChain._call\u001b[1;34m(self, inputs, run_manager)\u001b[0m\n\u001b[0;32m    103\u001b[0m \u001b[38;5;28;01mfor\u001b[39;00m i, chain \u001b[38;5;129;01min\u001b[39;00m \u001b[38;5;28menumerate\u001b[39m(\u001b[38;5;28mself\u001b[39m\u001b[38;5;241m.\u001b[39mchains):\n\u001b[0;32m    104\u001b[0m     callbacks \u001b[38;5;241m=\u001b[39m _run_manager\u001b[38;5;241m.\u001b[39mget_child()\n\u001b[1;32m--> 105\u001b[0m     outputs \u001b[38;5;241m=\u001b[39m \u001b[43mchain\u001b[49m\u001b[43m(\u001b[49m\u001b[43mknown_values\u001b[49m\u001b[43m,\u001b[49m\u001b[43m \u001b[49m\u001b[43mreturn_only_outputs\u001b[49m\u001b[38;5;241;43m=\u001b[39;49m\u001b[38;5;28;43;01mTrue\u001b[39;49;00m\u001b[43m,\u001b[49m\u001b[43m \u001b[49m\u001b[43mcallbacks\u001b[49m\u001b[38;5;241;43m=\u001b[39;49m\u001b[43mcallbacks\u001b[49m\u001b[43m)\u001b[49m\n\u001b[0;32m    106\u001b[0m     known_values\u001b[38;5;241m.\u001b[39mupdate(outputs)\n\u001b[0;32m    107\u001b[0m \u001b[38;5;28;01mreturn\u001b[39;00m {k: known_values[k] \u001b[38;5;28;01mfor\u001b[39;00m k \u001b[38;5;129;01min\u001b[39;00m \u001b[38;5;28mself\u001b[39m\u001b[38;5;241m.\u001b[39moutput_variables}\n",
      "File \u001b[1;32mc:\\Users\\shridhar\\Documents\\Shridhar\\Projects\\Langchain\\env_LangChain\\lib\\site-packages\\langchain\\chains\\base.py:312\u001b[0m, in \u001b[0;36mChain.__call__\u001b[1;34m(self, inputs, return_only_outputs, callbacks, tags, metadata, run_name, include_run_info)\u001b[0m\n\u001b[0;32m    310\u001b[0m \u001b[38;5;28;01mexcept\u001b[39;00m \u001b[38;5;167;01mBaseException\u001b[39;00m \u001b[38;5;28;01mas\u001b[39;00m e:\n\u001b[0;32m    311\u001b[0m     run_manager\u001b[38;5;241m.\u001b[39mon_chain_error(e)\n\u001b[1;32m--> 312\u001b[0m     \u001b[38;5;28;01mraise\u001b[39;00m e\n\u001b[0;32m    313\u001b[0m run_manager\u001b[38;5;241m.\u001b[39mon_chain_end(outputs)\n\u001b[0;32m    314\u001b[0m final_outputs: Dict[\u001b[38;5;28mstr\u001b[39m, Any] \u001b[38;5;241m=\u001b[39m \u001b[38;5;28mself\u001b[39m\u001b[38;5;241m.\u001b[39mprep_outputs(\n\u001b[0;32m    315\u001b[0m     inputs, outputs, return_only_outputs\n\u001b[0;32m    316\u001b[0m )\n",
      "File \u001b[1;32mc:\\Users\\shridhar\\Documents\\Shridhar\\Projects\\Langchain\\env_LangChain\\lib\\site-packages\\langchain\\chains\\base.py:306\u001b[0m, in \u001b[0;36mChain.__call__\u001b[1;34m(self, inputs, return_only_outputs, callbacks, tags, metadata, run_name, include_run_info)\u001b[0m\n\u001b[0;32m    299\u001b[0m run_manager \u001b[38;5;241m=\u001b[39m callback_manager\u001b[38;5;241m.\u001b[39mon_chain_start(\n\u001b[0;32m    300\u001b[0m     dumpd(\u001b[38;5;28mself\u001b[39m),\n\u001b[0;32m    301\u001b[0m     inputs,\n\u001b[0;32m    302\u001b[0m     name\u001b[38;5;241m=\u001b[39mrun_name,\n\u001b[0;32m    303\u001b[0m )\n\u001b[0;32m    304\u001b[0m \u001b[38;5;28;01mtry\u001b[39;00m:\n\u001b[0;32m    305\u001b[0m     outputs \u001b[38;5;241m=\u001b[39m (\n\u001b[1;32m--> 306\u001b[0m         \u001b[38;5;28;43mself\u001b[39;49m\u001b[38;5;241;43m.\u001b[39;49m\u001b[43m_call\u001b[49m\u001b[43m(\u001b[49m\u001b[43minputs\u001b[49m\u001b[43m,\u001b[49m\u001b[43m \u001b[49m\u001b[43mrun_manager\u001b[49m\u001b[38;5;241;43m=\u001b[39;49m\u001b[43mrun_manager\u001b[49m\u001b[43m)\u001b[49m\n\u001b[0;32m    307\u001b[0m         \u001b[38;5;28;01mif\u001b[39;00m new_arg_supported\n\u001b[0;32m    308\u001b[0m         \u001b[38;5;28;01melse\u001b[39;00m \u001b[38;5;28mself\u001b[39m\u001b[38;5;241m.\u001b[39m_call(inputs)\n\u001b[0;32m    309\u001b[0m     )\n\u001b[0;32m    310\u001b[0m \u001b[38;5;28;01mexcept\u001b[39;00m \u001b[38;5;167;01mBaseException\u001b[39;00m \u001b[38;5;28;01mas\u001b[39;00m e:\n\u001b[0;32m    311\u001b[0m     run_manager\u001b[38;5;241m.\u001b[39mon_chain_error(e)\n",
      "File \u001b[1;32mc:\\Users\\shridhar\\Documents\\Shridhar\\Projects\\Langchain\\env_LangChain\\lib\\site-packages\\langchain\\chains\\llm.py:103\u001b[0m, in \u001b[0;36mLLMChain._call\u001b[1;34m(self, inputs, run_manager)\u001b[0m\n\u001b[0;32m     98\u001b[0m \u001b[38;5;28;01mdef\u001b[39;00m \u001b[38;5;21m_call\u001b[39m(\n\u001b[0;32m     99\u001b[0m     \u001b[38;5;28mself\u001b[39m,\n\u001b[0;32m    100\u001b[0m     inputs: Dict[\u001b[38;5;28mstr\u001b[39m, Any],\n\u001b[0;32m    101\u001b[0m     run_manager: Optional[CallbackManagerForChainRun] \u001b[38;5;241m=\u001b[39m \u001b[38;5;28;01mNone\u001b[39;00m,\n\u001b[0;32m    102\u001b[0m ) \u001b[38;5;241m-\u001b[39m\u001b[38;5;241m>\u001b[39m Dict[\u001b[38;5;28mstr\u001b[39m, \u001b[38;5;28mstr\u001b[39m]:\n\u001b[1;32m--> 103\u001b[0m     response \u001b[38;5;241m=\u001b[39m \u001b[38;5;28;43mself\u001b[39;49m\u001b[38;5;241;43m.\u001b[39;49m\u001b[43mgenerate\u001b[49m\u001b[43m(\u001b[49m\u001b[43m[\u001b[49m\u001b[43minputs\u001b[49m\u001b[43m]\u001b[49m\u001b[43m,\u001b[49m\u001b[43m \u001b[49m\u001b[43mrun_manager\u001b[49m\u001b[38;5;241;43m=\u001b[39;49m\u001b[43mrun_manager\u001b[49m\u001b[43m)\u001b[49m\n\u001b[0;32m    104\u001b[0m     \u001b[38;5;28;01mreturn\u001b[39;00m \u001b[38;5;28mself\u001b[39m\u001b[38;5;241m.\u001b[39mcreate_outputs(response)[\u001b[38;5;241m0\u001b[39m]\n",
      "File \u001b[1;32mc:\\Users\\shridhar\\Documents\\Shridhar\\Projects\\Langchain\\env_LangChain\\lib\\site-packages\\langchain\\chains\\llm.py:115\u001b[0m, in \u001b[0;36mLLMChain.generate\u001b[1;34m(self, input_list, run_manager)\u001b[0m\n\u001b[0;32m    113\u001b[0m callbacks \u001b[38;5;241m=\u001b[39m run_manager\u001b[38;5;241m.\u001b[39mget_child() \u001b[38;5;28;01mif\u001b[39;00m run_manager \u001b[38;5;28;01melse\u001b[39;00m \u001b[38;5;28;01mNone\u001b[39;00m\n\u001b[0;32m    114\u001b[0m \u001b[38;5;28;01mif\u001b[39;00m \u001b[38;5;28misinstance\u001b[39m(\u001b[38;5;28mself\u001b[39m\u001b[38;5;241m.\u001b[39mllm, BaseLanguageModel):\n\u001b[1;32m--> 115\u001b[0m     \u001b[38;5;28;01mreturn\u001b[39;00m \u001b[38;5;28mself\u001b[39m\u001b[38;5;241m.\u001b[39mllm\u001b[38;5;241m.\u001b[39mgenerate_prompt(\n\u001b[0;32m    116\u001b[0m         prompts,\n\u001b[0;32m    117\u001b[0m         stop,\n\u001b[0;32m    118\u001b[0m         callbacks\u001b[38;5;241m=\u001b[39mcallbacks,\n\u001b[0;32m    119\u001b[0m         \u001b[38;5;241m*\u001b[39m\u001b[38;5;241m*\u001b[39m\u001b[38;5;28mself\u001b[39m\u001b[38;5;241m.\u001b[39mllm_kwargs,\n\u001b[0;32m    120\u001b[0m     )\n\u001b[0;32m    121\u001b[0m \u001b[38;5;28;01melse\u001b[39;00m:\n\u001b[0;32m    122\u001b[0m     results \u001b[38;5;241m=\u001b[39m \u001b[38;5;28mself\u001b[39m\u001b[38;5;241m.\u001b[39mllm\u001b[38;5;241m.\u001b[39mbind(stop\u001b[38;5;241m=\u001b[39mstop, \u001b[38;5;241m*\u001b[39m\u001b[38;5;241m*\u001b[39m\u001b[38;5;28mself\u001b[39m\u001b[38;5;241m.\u001b[39mllm_kwargs)\u001b[38;5;241m.\u001b[39mbatch(\n\u001b[0;32m    123\u001b[0m         cast(List, prompts), {\u001b[38;5;124m\"\u001b[39m\u001b[38;5;124mcallbacks\u001b[39m\u001b[38;5;124m\"\u001b[39m: callbacks}\n\u001b[0;32m    124\u001b[0m     )\n",
      "File \u001b[1;32mc:\\Users\\shridhar\\Documents\\Shridhar\\Projects\\Langchain\\env_LangChain\\lib\\site-packages\\langchain_core\\language_models\\chat_models.py:481\u001b[0m, in \u001b[0;36mBaseChatModel.generate_prompt\u001b[1;34m(self, prompts, stop, callbacks, **kwargs)\u001b[0m\n\u001b[0;32m    473\u001b[0m \u001b[38;5;28;01mdef\u001b[39;00m \u001b[38;5;21mgenerate_prompt\u001b[39m(\n\u001b[0;32m    474\u001b[0m     \u001b[38;5;28mself\u001b[39m,\n\u001b[0;32m    475\u001b[0m     prompts: List[PromptValue],\n\u001b[1;32m   (...)\u001b[0m\n\u001b[0;32m    478\u001b[0m     \u001b[38;5;241m*\u001b[39m\u001b[38;5;241m*\u001b[39mkwargs: Any,\n\u001b[0;32m    479\u001b[0m ) \u001b[38;5;241m-\u001b[39m\u001b[38;5;241m>\u001b[39m LLMResult:\n\u001b[0;32m    480\u001b[0m     prompt_messages \u001b[38;5;241m=\u001b[39m [p\u001b[38;5;241m.\u001b[39mto_messages() \u001b[38;5;28;01mfor\u001b[39;00m p \u001b[38;5;129;01min\u001b[39;00m prompts]\n\u001b[1;32m--> 481\u001b[0m     \u001b[38;5;28;01mreturn\u001b[39;00m \u001b[38;5;28mself\u001b[39m\u001b[38;5;241m.\u001b[39mgenerate(prompt_messages, stop\u001b[38;5;241m=\u001b[39mstop, callbacks\u001b[38;5;241m=\u001b[39mcallbacks, \u001b[38;5;241m*\u001b[39m\u001b[38;5;241m*\u001b[39mkwargs)\n",
      "File \u001b[1;32mc:\\Users\\shridhar\\Documents\\Shridhar\\Projects\\Langchain\\env_LangChain\\lib\\site-packages\\langchain_core\\language_models\\chat_models.py:370\u001b[0m, in \u001b[0;36mBaseChatModel.generate\u001b[1;34m(self, messages, stop, callbacks, tags, metadata, run_name, **kwargs)\u001b[0m\n\u001b[0;32m    368\u001b[0m         \u001b[38;5;28;01mif\u001b[39;00m run_managers:\n\u001b[0;32m    369\u001b[0m             run_managers[i]\u001b[38;5;241m.\u001b[39mon_llm_error(e)\n\u001b[1;32m--> 370\u001b[0m         \u001b[38;5;28;01mraise\u001b[39;00m e\n\u001b[0;32m    371\u001b[0m flattened_outputs \u001b[38;5;241m=\u001b[39m [\n\u001b[0;32m    372\u001b[0m     LLMResult(generations\u001b[38;5;241m=\u001b[39m[res\u001b[38;5;241m.\u001b[39mgenerations], llm_output\u001b[38;5;241m=\u001b[39mres\u001b[38;5;241m.\u001b[39mllm_output)\n\u001b[0;32m    373\u001b[0m     \u001b[38;5;28;01mfor\u001b[39;00m res \u001b[38;5;129;01min\u001b[39;00m results\n\u001b[0;32m    374\u001b[0m ]\n\u001b[0;32m    375\u001b[0m llm_output \u001b[38;5;241m=\u001b[39m \u001b[38;5;28mself\u001b[39m\u001b[38;5;241m.\u001b[39m_combine_llm_outputs([res\u001b[38;5;241m.\u001b[39mllm_output \u001b[38;5;28;01mfor\u001b[39;00m res \u001b[38;5;129;01min\u001b[39;00m results])\n",
      "File \u001b[1;32mc:\\Users\\shridhar\\Documents\\Shridhar\\Projects\\Langchain\\env_LangChain\\lib\\site-packages\\langchain_core\\language_models\\chat_models.py:360\u001b[0m, in \u001b[0;36mBaseChatModel.generate\u001b[1;34m(self, messages, stop, callbacks, tags, metadata, run_name, **kwargs)\u001b[0m\n\u001b[0;32m    357\u001b[0m \u001b[38;5;28;01mfor\u001b[39;00m i, m \u001b[38;5;129;01min\u001b[39;00m \u001b[38;5;28menumerate\u001b[39m(messages):\n\u001b[0;32m    358\u001b[0m     \u001b[38;5;28;01mtry\u001b[39;00m:\n\u001b[0;32m    359\u001b[0m         results\u001b[38;5;241m.\u001b[39mappend(\n\u001b[1;32m--> 360\u001b[0m             \u001b[38;5;28mself\u001b[39m\u001b[38;5;241m.\u001b[39m_generate_with_cache(\n\u001b[0;32m    361\u001b[0m                 m,\n\u001b[0;32m    362\u001b[0m                 stop\u001b[38;5;241m=\u001b[39mstop,\n\u001b[0;32m    363\u001b[0m                 run_manager\u001b[38;5;241m=\u001b[39mrun_managers[i] \u001b[38;5;28;01mif\u001b[39;00m run_managers \u001b[38;5;28;01melse\u001b[39;00m \u001b[38;5;28;01mNone\u001b[39;00m,\n\u001b[0;32m    364\u001b[0m                 \u001b[38;5;241m*\u001b[39m\u001b[38;5;241m*\u001b[39mkwargs,\n\u001b[0;32m    365\u001b[0m             )\n\u001b[0;32m    366\u001b[0m         )\n\u001b[0;32m    367\u001b[0m     \u001b[38;5;28;01mexcept\u001b[39;00m \u001b[38;5;167;01mBaseException\u001b[39;00m \u001b[38;5;28;01mas\u001b[39;00m e:\n\u001b[0;32m    368\u001b[0m         \u001b[38;5;28;01mif\u001b[39;00m run_managers:\n",
      "File \u001b[1;32mc:\\Users\\shridhar\\Documents\\Shridhar\\Projects\\Langchain\\env_LangChain\\lib\\site-packages\\langchain_core\\language_models\\chat_models.py:514\u001b[0m, in \u001b[0;36mBaseChatModel._generate_with_cache\u001b[1;34m(self, messages, stop, run_manager, **kwargs)\u001b[0m\n\u001b[0;32m    510\u001b[0m     \u001b[38;5;28;01mraise\u001b[39;00m \u001b[38;5;167;01mValueError\u001b[39;00m(\n\u001b[0;32m    511\u001b[0m         \u001b[38;5;124m\"\u001b[39m\u001b[38;5;124mAsked to cache, but no cache found at `langchain.cache`.\u001b[39m\u001b[38;5;124m\"\u001b[39m\n\u001b[0;32m    512\u001b[0m     )\n\u001b[0;32m    513\u001b[0m \u001b[38;5;28;01mif\u001b[39;00m new_arg_supported:\n\u001b[1;32m--> 514\u001b[0m     \u001b[38;5;28;01mreturn\u001b[39;00m \u001b[38;5;28mself\u001b[39m\u001b[38;5;241m.\u001b[39m_generate(\n\u001b[0;32m    515\u001b[0m         messages, stop\u001b[38;5;241m=\u001b[39mstop, run_manager\u001b[38;5;241m=\u001b[39mrun_manager, \u001b[38;5;241m*\u001b[39m\u001b[38;5;241m*\u001b[39mkwargs\n\u001b[0;32m    516\u001b[0m     )\n\u001b[0;32m    517\u001b[0m \u001b[38;5;28;01melse\u001b[39;00m:\n\u001b[0;32m    518\u001b[0m     \u001b[38;5;28;01mreturn\u001b[39;00m \u001b[38;5;28mself\u001b[39m\u001b[38;5;241m.\u001b[39m_generate(messages, stop\u001b[38;5;241m=\u001b[39mstop, \u001b[38;5;241m*\u001b[39m\u001b[38;5;241m*\u001b[39mkwargs)\n",
      "File \u001b[1;32mc:\\Users\\shridhar\\Documents\\Shridhar\\Projects\\Langchain\\env_LangChain\\lib\\site-packages\\langchain\\chat_models\\google_palm.py:308\u001b[0m, in \u001b[0;36mChatGooglePalm._generate\u001b[1;34m(self, messages, stop, run_manager, **kwargs)\u001b[0m\n\u001b[0;32m    295\u001b[0m prompt \u001b[38;5;241m=\u001b[39m _messages_to_prompt_dict(messages)\n\u001b[0;32m    297\u001b[0m response: genai\u001b[38;5;241m.\u001b[39mtypes\u001b[38;5;241m.\u001b[39mChatResponse \u001b[38;5;241m=\u001b[39m chat_with_retry(\n\u001b[0;32m    298\u001b[0m     \u001b[38;5;28mself\u001b[39m,\n\u001b[0;32m    299\u001b[0m     model\u001b[38;5;241m=\u001b[39m\u001b[38;5;28mself\u001b[39m\u001b[38;5;241m.\u001b[39mmodel_name,\n\u001b[1;32m   (...)\u001b[0m\n\u001b[0;32m    305\u001b[0m     \u001b[38;5;241m*\u001b[39m\u001b[38;5;241m*\u001b[39mkwargs,\n\u001b[0;32m    306\u001b[0m )\n\u001b[1;32m--> 308\u001b[0m \u001b[38;5;28;01mreturn\u001b[39;00m \u001b[43m_response_to_result\u001b[49m\u001b[43m(\u001b[49m\u001b[43mresponse\u001b[49m\u001b[43m,\u001b[49m\u001b[43m \u001b[49m\u001b[43mstop\u001b[49m\u001b[43m)\u001b[49m\n",
      "File \u001b[1;32mc:\\Users\\shridhar\\Documents\\Shridhar\\Projects\\Langchain\\env_LangChain\\lib\\site-packages\\langchain\\chat_models\\google_palm.py:65\u001b[0m, in \u001b[0;36m_response_to_result\u001b[1;34m(response, stop)\u001b[0m\n\u001b[0;32m     63\u001b[0m \u001b[38;5;250m\u001b[39m\u001b[38;5;124;03m\"\"\"Converts a PaLM API response into a LangChain ChatResult.\"\"\"\u001b[39;00m\n\u001b[0;32m     64\u001b[0m \u001b[38;5;28;01mif\u001b[39;00m \u001b[38;5;129;01mnot\u001b[39;00m response\u001b[38;5;241m.\u001b[39mcandidates:\n\u001b[1;32m---> 65\u001b[0m     \u001b[38;5;28;01mraise\u001b[39;00m ChatGooglePalmError(\u001b[38;5;124m\"\u001b[39m\u001b[38;5;124mChatResponse must have at least one candidate.\u001b[39m\u001b[38;5;124m\"\u001b[39m)\n\u001b[0;32m     67\u001b[0m generations: List[ChatGeneration] \u001b[38;5;241m=\u001b[39m []\n\u001b[0;32m     68\u001b[0m \u001b[38;5;28;01mfor\u001b[39;00m candidate \u001b[38;5;129;01min\u001b[39;00m response\u001b[38;5;241m.\u001b[39mcandidates:\n",
      "\u001b[1;31mChatGooglePalmError\u001b[0m: ChatResponse must have at least one candidate."
     ]
    }
   ],
   "source": [
    "overall_chain(multilingual_text)"
   ]
  },
  {
   "cell_type": "code",
   "execution_count": null,
   "metadata": {},
   "outputs": [],
   "source": []
  }
 ],
 "metadata": {
  "kernelspec": {
   "display_name": "env_LangChain",
   "language": "python",
   "name": "python3"
  },
  "language_info": {
   "codemirror_mode": {
    "name": "ipython",
    "version": 3
   },
   "file_extension": ".py",
   "mimetype": "text/x-python",
   "name": "python",
   "nbconvert_exporter": "python",
   "pygments_lexer": "ipython3",
   "version": "3.10.11"
  }
 },
 "nbformat": 4,
 "nbformat_minor": 2
}
