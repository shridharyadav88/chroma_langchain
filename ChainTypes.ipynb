{
 "cells": [
  {
   "cell_type": "code",
   "execution_count": 1,
   "metadata": {},
   "outputs": [],
   "source": [
    "from config import GOOGLE_AI_API_KEY\n",
    "\n",
    "from langchain.document_loaders import DirectoryLoader, TextLoader\n",
    "from langchain.text_splitter import RecursiveCharacterTextSplitter\n",
    "\n",
    "from langchain.embeddings import GooglePalmEmbeddings\n",
    "from langchain.vectorstores import Chroma\n",
    "\n",
    "from langchain.chains import RetrievalQA\n",
    "from langchain.chat_models import ChatGooglePalm\n",
    "from langchain.prompts import PromptTemplate\n",
    "from langchain.prompts import ChatPromptTemplate\n",
    "import pandas as pd"
   ]
  },
  {
   "cell_type": "code",
   "execution_count": 2,
   "metadata": {},
   "outputs": [
    {
     "name": "stderr",
     "output_type": "stream",
     "text": [
      "c:\\Users\\shridhar\\Documents\\Shridhar\\Projects\\Langchain\\env_LangChain\\lib\\site-packages\\tqdm\\auto.py:21: TqdmWarning: IProgress not found. Please update jupyter and ipywidgets. See https://ipywidgets.readthedocs.io/en/stable/user_install.html\n",
      "  from .autonotebook import tqdm as notebook_tqdm\n"
     ]
    }
   ],
   "source": [
    "llm = ChatGooglePalm(google_api_key=GOOGLE_AI_API_KEY, temperature=0.0)"
   ]
  },
  {
   "cell_type": "code",
   "execution_count": 1,
   "metadata": {},
   "outputs": [],
   "source": [
    "from langchain.chains import LLMChain\n",
    "from langchain.embeddings import HuggingFaceEmbeddings"
   ]
  },
  {
   "cell_type": "code",
   "execution_count": 4,
   "metadata": {},
   "outputs": [
    {
     "data": {
      "text/plain": [
       "'Here are some good names for a company that makes organic non GMO millets:\\n\\n* **Organic Millets**\\n* **Non GMO Millets**\\n* **Organic Non GMO Millets**\\n* **Millets Direct**\\n* **Millets USA**\\n* **Millets World**\\n* **Millets Market**\\n* **Millets Source**\\n* **Millets Supply**\\n* **Millets Company**\\n* **Millets Corporation**\\n* **Millets Enterprises**\\n* **Millets Inc.**\\n* **Millets LLC**\\n* **Millets Group**\\n* **Millets Holdings**\\n* **Millets Farms**\\n* **Millets Gardens**\\n* **Millets Plantations**\\n* **Millets Distributors**\\n* **Millets Retailers**\\n* **Millets Wholesalers**\\n* **Millets Exporters**\\n* **Millets Importers**\\n* **Millets Processors**\\n* **Millets Manufacturers**\\n* **Millets Marketers**\\n* **Millets Branders**\\n* **Millets Retailers**\\n* **Millets Distributors**\\n* **Millets Exporters**\\n* **Millets Importers**\\n* **Millets Processors**\\n* **Millets Manufacturers**\\n* **Millets Marketers**\\n* **Millets Branders**'"
      ]
     },
     "execution_count": 4,
     "metadata": {},
     "output_type": "execute_result"
    }
   ],
   "source": [
    "prompt = ChatPromptTemplate.from_template(\"What is the best name to describe a \\\n",
    "                                          company that makes {product}. \\\n",
    "                                        Give just the name and nothing else.\\\n",
    "                                        Do not include any description or reasoning\")\n",
    "\n",
    "chain = LLMChain(llm = llm, prompt = prompt)\n",
    "\n",
    "product  = \"Organic Non GMO Millets\"\n",
    "chain.run(product)"
   ]
  },
  {
   "cell_type": "code",
   "execution_count": 5,
   "metadata": {},
   "outputs": [],
   "source": [
    "# Simple Sequential Chain\n",
    "# Simple Sequence chain works nicely to sequence one output as another's input\n",
    "# To use multiple inputs into the chain use normal sequential chain\n",
    "from langchain.chains import SimpleSequentialChain\n",
    "\n",
    "first_prompt = ChatPromptTemplate.from_template(\"What is the best name to describe a \\\n",
    "                                          company that makes {product}. \\\n",
    "                                        Give just the name and nothing else.\\\n",
    "                                        Do not include any description or reasoning\")\n",
    "\n",
    "chain_one = LLMChain(llm = llm, prompt = first_prompt)"
   ]
  },
  {
   "cell_type": "code",
   "execution_count": 6,
   "metadata": {},
   "outputs": [],
   "source": [
    "second_prompt = ChatPromptTemplate.from_template(\"Write a 20 words description for the following company {company}\")\n",
    "chain_two = LLMChain(llm = llm, prompt = second_prompt)"
   ]
  },
  {
   "cell_type": "code",
   "execution_count": 7,
   "metadata": {},
   "outputs": [],
   "source": [
    "simple_seq_chain = SimpleSequentialChain(chains = [chain_one, chain_two], verbose=True)"
   ]
  },
  {
   "cell_type": "code",
   "execution_count": 8,
   "metadata": {},
   "outputs": [
    {
     "name": "stdout",
     "output_type": "stream",
     "text": [
      "\n",
      "\n",
      "\u001b[1m> Entering new SimpleSequentialChain chain...\u001b[0m\n",
      "\u001b[36;1m\u001b[1;3mHere are some good names for a company that makes organic non GMO millets:\n",
      "\n",
      "* **Organic Millets**\n",
      "* **Non GMO Millets**\n",
      "* **Organic Non GMO Millets**\n",
      "* **Millets Direct**\n",
      "* **Millets USA**\n",
      "* **Millets World**\n",
      "* **Millets Market**\n",
      "* **Millets Source**\n",
      "* **Millets Supply**\n",
      "* **Millets Company**\n",
      "* **Millets Corporation**\n",
      "* **Millets Enterprises**\n",
      "* **Millets Inc.**\n",
      "* **Millets LLC**\n",
      "* **Millets Group**\n",
      "* **Millets Holdings**\n",
      "* **Millets Farms**\n",
      "* **Millets Gardens**\n",
      "* **Millets Plantations**\n",
      "* **Millets Distributors**\n",
      "* **Millets Retailers**\n",
      "* **Millets Wholesalers**\n",
      "* **Millets Exporters**\n",
      "* **Millets Importers**\n",
      "* **Millets Processors**\n",
      "* **Millets Manufacturers**\n",
      "* **Millets Marketers**\n",
      "* **Millets Branders**\n",
      "* **Millets Retailers**\n",
      "* **Millets Distributors**\n",
      "* **Millets Exporters**\n",
      "* **Millets Importers**\n",
      "* **Millets Processors**\n",
      "* **Millets Manufacturers**\n",
      "* **Millets Marketers**\n",
      "* **Millets Branders**\u001b[0m\n",
      "\u001b[33;1m\u001b[1;3mHere are some 20-word descriptions for a company that makes organic non GMO millets:\n",
      "\n",
      "* **Organic Millets: The Healthy Grain**\n",
      "* **Non GMO Millets: The Natural Choice**\n",
      "* **Organic Non GMO Millets: The Sustainable Option**\n",
      "* **Millets Direct: The Source for Organic Millets**\n",
      "* **Millets USA: The Leading Provider of Organic Millets**\n",
      "* **Millets World: The Global Source for Organic Millets**\n",
      "* **Millets Market: The Best Place to Buy Organic Millets**\n",
      "* **Millets Source: The One-Stop Shop for Organic Millets**\n",
      "* **Millets Supply: The Reliable Source for Organic Millets**\n",
      "* **Millets Company: The Pioneer of Organic Millets**\n",
      "* **Millets Corporation: The Leader in Organic Millets**\n",
      "* **Millets Enterprises: The Best Value in Organic Millets**\n",
      "* **Millets Inc.: The Most Trusted Source for Organic Millets**\n",
      "* **Millets LLC: The Most Convenient Source for Organic Millets**\n",
      "* **Millets Group: The Most Comprehensive Source for Organic Millets**\n",
      "* **Millets Holdings: The Most Reliable Source for Organic Millets**\n",
      "* **Millets Farms: The Most Sustainable Source for Organic Millets**\n",
      "* **Millets Gardens: The Most Organic Source for Organic Millets**\n",
      "* **Millets Plantations: The Most Natural Source for Organic Millets**\n",
      "* **Millets Distributors: The Most Trusted Source for Organic Millets**\n",
      "* **Millets Retailers: The Most Convenient Source for Organic Millets**\n",
      "* **Millets Wholesalers: The Most Comprehensive Source for Organic Millets**\n",
      "* **Millets Exporters: The Most Reliable Source for Organic Millets**\n",
      "* **Millets Importers: The Most Sustainable Source for Organic Millets**\n",
      "* **Millets Processors: The Most Organic Source for Organic Millets**\n",
      "* **Millets Manufacturers: The Most Natural Source for Organic Millets**\n",
      "* **Millets Marketers: The Most Trusted Source for Organic Millets**\n",
      "* **Millets Branders: The Most Convenient Source for Organic Millets**\u001b[0m\n",
      "\n",
      "\u001b[1m> Finished chain.\u001b[0m\n"
     ]
    },
    {
     "data": {
      "text/plain": [
       "'Here are some 20-word descriptions for a company that makes organic non GMO millets:\\n\\n* **Organic Millets: The Healthy Grain**\\n* **Non GMO Millets: The Natural Choice**\\n* **Organic Non GMO Millets: The Sustainable Option**\\n* **Millets Direct: The Source for Organic Millets**\\n* **Millets USA: The Leading Provider of Organic Millets**\\n* **Millets World: The Global Source for Organic Millets**\\n* **Millets Market: The Best Place to Buy Organic Millets**\\n* **Millets Source: The One-Stop Shop for Organic Millets**\\n* **Millets Supply: The Reliable Source for Organic Millets**\\n* **Millets Company: The Pioneer of Organic Millets**\\n* **Millets Corporation: The Leader in Organic Millets**\\n* **Millets Enterprises: The Best Value in Organic Millets**\\n* **Millets Inc.: The Most Trusted Source for Organic Millets**\\n* **Millets LLC: The Most Convenient Source for Organic Millets**\\n* **Millets Group: The Most Comprehensive Source for Organic Millets**\\n* **Millets Holdings: The Most Reliable Source for Organic Millets**\\n* **Millets Farms: The Most Sustainable Source for Organic Millets**\\n* **Millets Gardens: The Most Organic Source for Organic Millets**\\n* **Millets Plantations: The Most Natural Source for Organic Millets**\\n* **Millets Distributors: The Most Trusted Source for Organic Millets**\\n* **Millets Retailers: The Most Convenient Source for Organic Millets**\\n* **Millets Wholesalers: The Most Comprehensive Source for Organic Millets**\\n* **Millets Exporters: The Most Reliable Source for Organic Millets**\\n* **Millets Importers: The Most Sustainable Source for Organic Millets**\\n* **Millets Processors: The Most Organic Source for Organic Millets**\\n* **Millets Manufacturers: The Most Natural Source for Organic Millets**\\n* **Millets Marketers: The Most Trusted Source for Organic Millets**\\n* **Millets Branders: The Most Convenient Source for Organic Millets**'"
      ]
     },
     "execution_count": 8,
     "metadata": {},
     "output_type": "execute_result"
    }
   ],
   "source": [
    "simple_seq_chain.run(product)"
   ]
  },
  {
   "cell_type": "code",
   "execution_count": 16,
   "metadata": {},
   "outputs": [
    {
     "data": {
      "text/plain": [
       "'The amount of sugar in 100 grams of bajra is 7.2 grams.'"
      ]
     },
     "execution_count": 16,
     "metadata": {},
     "output_type": "execute_result"
    }
   ],
   "source": [
    "from langchain.chains import SequentialChain\n",
    "\n",
    "food_item = \"\"\"Bajra\"\"\"\n",
    "\n",
    "first_prompt = ChatPromptTemplate.from_template(\"\"\"Get the amount of sugar in grams in 100gms of this food item {food_item}, Output only the grams of sugar with 1 word answer. Below is the example:\n",
    "                                                Question: Get the amount of sugar in grams in this food item Jaggery\n",
    "                                                Answer: 10gm\n",
    "                                                \"\"\")\n",
    "\n",
    "chain_one = LLMChain(llm=llm, prompt = first_prompt, output_key=\"sugar\")\n",
    "chain_one.run(food_item)"
   ]
  },
  {
   "cell_type": "code",
   "execution_count": 17,
   "metadata": {},
   "outputs": [],
   "source": [
    "second_prompt = ChatPromptTemplate.from_template(\"How much glucose spike you will get with: {sugar}\")\n",
    "chain_two = LLMChain(llm = llm, prompt=second_prompt, output_key=\"glucose_spike\")"
   ]
  },
  {
   "cell_type": "code",
   "execution_count": 18,
   "metadata": {},
   "outputs": [],
   "source": [
    "third_prompt = ChatPromptTemplate.from_template(\"Get the amount of fiber in grams in 100gms of this food item {food_item}, Output only the grams of sugar with 1 word answer\")\n",
    "chain_three = LLMChain(llm = llm, prompt=third_prompt, output_key=\"fiber\")"
   ]
  },
  {
   "cell_type": "code",
   "execution_count": 19,
   "metadata": {},
   "outputs": [],
   "source": [
    "fourth_prompt = ChatPromptTemplate.from_template(\"Is the food item healthy to eat with this much glucose spike {glucose_spike} and this much fiber {fiber} good for health?\")\n",
    "chain_four = LLMChain(llm = llm, prompt=fourth_prompt, output_key=\"healthy\")"
   ]
  },
  {
   "cell_type": "code",
   "execution_count": 20,
   "metadata": {},
   "outputs": [],
   "source": [
    "overall_chain = SequentialChain(\n",
    "    chains=[chain_one, chain_two, chain_three, chain_four],\n",
    "    input_variables=[\"food_item\"],\n",
    "    output_variables=[\"sugar\", \"glucose_spike\", \"fiber\", \"healthy\"],\n",
    "    verbose=True\n",
    "    )"
   ]
  },
  {
   "cell_type": "code",
   "execution_count": 21,
   "metadata": {},
   "outputs": [
    {
     "name": "stdout",
     "output_type": "stream",
     "text": [
      "\n",
      "\n",
      "\u001b[1m> Entering new SequentialChain chain...\u001b[0m\n",
      "\n",
      "\u001b[1m> Finished chain.\u001b[0m\n"
     ]
    },
    {
     "data": {
      "text/plain": [
       "{'food_item': 'Bajra',\n",
       " 'sugar': 'The amount of sugar in 100 grams of bajra is 7.2 grams.',\n",
       " 'glucose_spike': 'The amount of glucose spike you will get with 100 grams of bajra will depend on a number of factors, including your individual metabolism, how much other food you have eaten, and your activity level. However, as a general rule of thumb, you can expect to see a blood sugar increase of around 5-10% after eating 100 grams of bajra.\\r\\n\\r\\nBajra is a type of millet that is high in carbohydrates. When you eat carbohydrates, your body breaks them down into glucose, which is then used for energy. However, if you eat too many carbohydrates, your blood sugar levels can spike. This can be a problem for people with diabetes, as it can lead to complications such as heart disease and stroke.\\r\\n\\r\\nIf you are concerned about your blood sugar levels, it is important to talk to your doctor. They can help you to develop a plan to manage your diabetes and prevent blood sugar spikes.\\r\\n\\r\\nHere are some tips to help you manage your blood sugar levels after eating bajra:\\r\\n\\r\\n* Choose wholegrain bajra over refined bajra. Wholegrain bajra is higher in fiber, which can help to slow down the absorption of glucose into your bloodstream.\\r\\n* Eat bajra with other foods that are high in protein and fiber. This will help to further slow down the absorption of glucose.\\r\\n* Avoid eating bajra on an empty stomach. Eating bajra on an empty stomach can cause your blood sugar levels to spike more quickly.\\r\\n* Exercise regularly. Exercise can help to improve your insulin sensitivity and lower your blood sugar levels.\\r\\n* Monitor your blood sugar levels regularly. This will help you to see how bajra affects your blood sugar levels and make adjustments to your diet as needed.',\n",
       " 'fiber': '2.4',\n",
       " 'healthy': 'Bajra is a type of millet that is high in fiber and low in sugar. It is a good source of vitamins and minerals, including iron, magnesium, and phosphorus. Bajra is also a gluten-free grain, making it a good choice for people with celiac disease or gluten intolerance.\\n\\nThe amount of sugar in 100 grams of bajra is 7.2 grams. This is a relatively low amount of sugar, especially when compared to other grains such as rice and wheat. The amount of fiber in 100 grams of bajra is 2.4 grams. This is a good amount of fiber, which can help to keep you feeling full and satisfied.\\n\\nOverall, bajra is a healthy food that can be included in a balanced diet. It is a good source of fiber and nutrients, and it is low in sugar. If you are looking for a healthy grain to add to your diet, bajra is a good option.\\n\\nHere are some of the health benefits of bajra:\\n\\n* Bajra is a good source of fiber, which can help to keep you feeling full and satisfied.\\n* Bajra is a good source of iron, which is essential for carrying oxygen throughout the body.\\n* Bajra is a good source of magnesium, which is important for muscle and nerve function.\\n* Bajra is a good source of phosphorus, which is important for bone health.\\n* Bajra is a gluten-free grain, making it a good choice for people with celiac disease or gluten intolerance.\\n\\nIf you are looking for a healthy grain to add to your diet, bajra is a good option. It is a good source of fiber and nutrients, and it is low in sugar.'}"
      ]
     },
     "execution_count": 21,
     "metadata": {},
     "output_type": "execute_result"
    }
   ],
   "source": [
    "overall_chain(food_item)"
   ]
  },
  {
   "cell_type": "code",
   "execution_count": null,
   "metadata": {},
   "outputs": [],
   "source": []
  }
 ],
 "metadata": {
  "kernelspec": {
   "display_name": "env_LangChain",
   "language": "python",
   "name": "python3"
  },
  "language_info": {
   "codemirror_mode": {
    "name": "ipython",
    "version": 3
   },
   "file_extension": ".py",
   "mimetype": "text/x-python",
   "name": "python",
   "nbconvert_exporter": "python",
   "pygments_lexer": "ipython3",
   "version": "3.10.11"
  }
 },
 "nbformat": 4,
 "nbformat_minor": 2
}
