{
 "cells": [
  {
   "cell_type": "code",
   "execution_count": 12,
   "metadata": {},
   "outputs": [],
   "source": [
    "from langchain.vectorstores import Chroma\n",
    "from langchain.text_splitter import RecursiveCharacterTextSplitter\n",
    "from langchain.llms import OpenAI\n",
    "from langchain.chains import VectorDBQA\n",
    "from langchain.document_loaders import TextLoader"
   ]
  },
  {
   "cell_type": "code",
   "execution_count": 13,
   "metadata": {},
   "outputs": [],
   "source": [
    "loader = TextLoader('.//case_files//5022_2016_Judgement_06-Sep-2017.txt')\n",
    "documents = loader.load()\n",
    "\n",
    "text_splitter = RecursiveCharacterTextSplitter(chunk_size=1000, chunk_overlap=0)\n",
    "texts = text_splitter.split_documents(documents)\n"
   ]
  },
  {
   "cell_type": "code",
   "execution_count": 14,
   "metadata": {},
   "outputs": [
    {
     "data": {
      "text/plain": [
       "[Document(page_content='NON-REPORTABLE\\n                                        IN THE SUPREME COURT OF INDIA\\n                                         CIVIL APPELLATE JURISDICTION\\n\\n\\n                                      CIVIL APPEAL NO(S). 12847 OF 2017\\n                              [@ SPECIAL LEAVE PETITION (C) NO(S).11275/2016]\\n\\n\\n                         RAJBIR AND   ORS.                         APPELLANT(S)\\n\\n                                                     VERSUS\\n\\n                         STATE OF HARYANA AND ORS.                 RESPONDENT(S)\\n\\n                                                  WITH', metadata={'source': './/case_files//5022_2016_Judgement_06-Sep-2017.txt'}),\n",
       " Document(page_content='CIVIL APPEAL NO(S).14637-645 OF 2017 @ SLP(C) NOS.24124-24132/2016,\\n     CIVIL APPEAL NO(S). 14601 OF 2017 @ SLP(C) No.11064/2016,\\n     CIVIL APPEAL NO(S). 14599 OF 2017 @ SLP(C) No.11274/2016,\\n     CIVIL APPEAL NO(S). 14611-14632 OF 2017 @ SLP(C) No.17260-81/2016,\\n     CIVIL APPEAL NO(S).14646-14649 OF 2017 @ SLP(C) NOS.1338-1341/2017,\\n     CIVIL APPEAL NO(S). 14600 OF 2017 @ SLP(C) No.11063/2016,\\n     CIVIL APPEAL NO(S). 14602 OF 2017 @ SLP(C) No. 11058/2016,\\n     CIVIL APPEAL NO(S). 14653 OF 2017 @ SLP(C) No. 23353/2017,\\n     CIVIL APPEAL NO(S). 14605 OF 2017 @ SLP(C) No. 14430/2016,\\n     CIVIL APPEAL NO(S). 14633 OF 2017 @ SLP(C) No. 18649/2016,\\n     CIVIL APPEAL NO(S).14651-14652 OF 2017 @ SLP(C) No.19685-19686/2017,\\n     CIVIL APPEAL NO(S).14606-14609 OF 2017 @ SLP(C) No.14367-14370/2016,\\n     CIVIL APPEAL NO(S).14603-14604 OF 2017 @ SLP(C) No.14371-14372/2016,\\n     CIVIL APPEAL NO(S).14634-14636 OF 2017 @ SLP(C) No.18618-18620/2016,', metadata={'source': './/case_files//5022_2016_Judgement_06-Sep-2017.txt'}),\n",
       " Document(page_content='CIVIL APPEAL NO(S).14610 OF 2017 @ SLP(C) No. 17602/2016,\\n     CIVIL APPEAL NO(S).14650 OF 2017 @ SLP(C) No. 10310/2017', metadata={'source': './/case_files//5022_2016_Judgement_06-Sep-2017.txt'}),\n",
       " Document(page_content='Signature Not Verified\\n                                               J U D G M E N T\\n     KURIAN, J.\\nDigitally signed by\\nNARENDRA PRASAD\\nDate: 2017.09.20\\n10:49:15 IST\\nReason:\\n\\n\\n                             Leave granted.', metadata={'source': './/case_files//5022_2016_Judgement_06-Sep-2017.txt'}),\n",
       " Document(page_content=\"1\\n\\x0c2.     Both the claimants and the State are before this\\nCourt,       aggrieved       by    the     compensation           awarded        with\\nrespect       to   the    land      acquired         for    the        purpose    of\\nKundli-Manesar-Palwal                   Project       (for        short          'KMP\\nProject').\\n3.     The    Section        4(1)       Notification            was     issued    on\\n13.08.2004 in respect of around 151 acres of land in\\nfour villages i.e. Badh Malik, Pritampura, Jatheri\\nand     Akabarpur        Barota.         The    same       was        followed    by\\nDeclaration dated 26.8.2004 under Section 6 of the\\nAct. Dissatisfied by the Award of the Collector, the\\nland owners filed objections, however, the Reference\\nCourt    upheld      the      Award       of    the    Collector.          In    the\\nimpugned       judgment,          the    High     Court         has     fixed    the\", metadata={'source': './/case_files//5022_2016_Judgement_06-Sep-2017.txt'}),\n",
       " Document(page_content='compensation in the following manner :-', metadata={'source': './/case_files//5022_2016_Judgement_06-Sep-2017.txt'}),\n",
       " Document(page_content='For the land abutting                   GT Rs.35,70,000/- per acre\\nRoad upto the depth                     of\\nfour acres\\n\\nFor the land upto to the Rs.27,20,000/- per acre\\nboundary of Sector 38\\nFor the land from the Rs.18,20,000/- per acre\\nboundary of Sector 38 upto\\none km.\\nFor remaining land         Rs.12,20,000/- per acre\\n\\n\\n\\n4.     In the nature of order we propose to pass, it is\\nnot    necessary        to   go     into       the    various          contentions\\nexcept to note that, in our view, the High Court has\\ngone     wrong     in     placing         reliance         on     a     subsequent\\nacquisition for which Section 4(1) Notification was\\nissued on 17.11.2005 for Rajiv Gandhi Education City\\nand fixing the land value for the KMP Project by', metadata={'source': './/case_files//5022_2016_Judgement_06-Sep-2017.txt'}),\n",
       " Document(page_content='2\\n\\x0cintroducing the method of an appropriate reduction.\\nAnother error, in our opinion, is in adopting the\\nbelting system. Being an acquisition for an Express\\nWay passing through different parcel of land, there\\nis no need or justification for adopting the belting\\nsystem.       Further, the High Court committed a mistake\\nin introducing cuts.                 If the land value is to be\\nfixed       for     KMP     Project      acquisition,          the    relevant\\nfactors which are to be noted are mainly the value\\nthat        was     prevalent       in      the    locality          prior     to\\n13.08.2004.\\n5.     We     are     informed       that     several         documents       are\\navailable for fixing the land value.                         We are also of\\nthe view that the High Court should bear in mind,\\nwhile fixing the land value, that the road brings\\ndevelopment and the value of the land on either side', metadata={'source': './/case_files//5022_2016_Judgement_06-Sep-2017.txt'}),\n",
       " Document(page_content='of    the     Highway       increases       and   the       land     owners    on\\neither side of the land are also benefited by the\\nconstruction of a new road.                   However, the High Court\\nhas         also      to     take        into      consideration              the\\nreconstructions on use of the land to an extent of\\n200 feet on either side of the road.\\n6.     We     are     also       informed       that        certain    matters\\npertaining to the very same acquisition have already\\nbeen remitted by this Court.\\n7.     For    all     the    above    reasons,         we    set     aside    the\\nimpugned          order    and   remit    the     matters      to     the    High\\nCourt for consideration afresh.\\n8.     The appeals are, accordingly, disposed of.\\n9.     We request the High Court to dispose of these\\ncases expeditiously and preferably within a period of\\nsix months.', metadata={'source': './/case_files//5022_2016_Judgement_06-Sep-2017.txt'}),\n",
       " Document(page_content='3\\n\\x0c10. Pending    applications,       if   any,   shall   stand\\ndisposed of.\\n11. There shall be no orders as to costs.\\n\\n\\n\\n\\n                                   .......................J.\\n                                            [KURIAN JOSEPH]\\n\\n\\n                                   .......................J.\\n                                             [R. BANUMATHI]\\nNEW DELHI;\\nSEPTEMBER 06, 2017.\\n\\n\\n\\n\\n                               4', metadata={'source': './/case_files//5022_2016_Judgement_06-Sep-2017.txt'})]"
      ]
     },
     "execution_count": 14,
     "metadata": {},
     "output_type": "execute_result"
    }
   ],
   "source": [
    "texts"
   ]
  },
  {
   "cell_type": "code",
   "execution_count": 19,
   "metadata": {},
   "outputs": [
    {
     "name": "stdout",
     "output_type": "stream",
     "text": [
      "Number of documents =  10\n",
      "Max batch Size =  2\n"
     ]
    }
   ],
   "source": [
    "no_of_documents = len(texts)\n",
    "max_batch_size = 2 #Have to assign this manually as \n",
    "print(\"Number of documents = \", no_of_documents)\n",
    "print(\"Max batch Size = \", max_batch_size)"
   ]
  },
  {
   "cell_type": "code",
   "execution_count": 22,
   "metadata": {},
   "outputs": [
    {
     "name": "stdout",
     "output_type": "stream",
     "text": [
      "Max batch size: 2\n"
     ]
    }
   ],
   "source": [
    "# Embed and store the texts\n",
    "# Supplying a persist_directory will store the embeddings on disk\n",
    "\n",
    "from my_embedding_function import CustomEmbeddings\n",
    "\n",
    "persist_directory = './/chromadb_langchain'\n",
    "custom_embedding_function = CustomEmbeddings()\n",
    "vectorstore = Chroma(\"langchain_store\", custom_embedding_function)\n",
    "max_batch_size = 2\n",
    "print(f\"Max batch size: {max_batch_size}\")\n",
    "vectordb = Chroma.from_documents(documents=texts[:2], \n",
    "                                 embedding=custom_embedding_function, \n",
    "                                 persist_directory=persist_directory,\n",
    "                                 )\n"
   ]
  },
  {
   "cell_type": "code",
   "execution_count": 25,
   "metadata": {},
   "outputs": [
    {
     "name": "stderr",
     "output_type": "stream",
     "text": [
      "Processing Documents: 100%|██████████| 4/4 [00:03<00:00,  1.06it/s]\n"
     ]
    }
   ],
   "source": [
    "from tqdm import tqdm\n",
    "import time\n",
    "\n",
    "document_range = range(2, no_of_documents, max_batch_size)\n",
    "\n",
    "# Create a tqdm instance with total being the length of the range\n",
    "progress_bar = tqdm(total=len(document_range), desc=\"Processing Documents\")\n",
    "\n",
    "# Loop through the documents\n",
    "for i in document_range:\n",
    "    # Simulate adding documents to vectordb\n",
    "    # Replace this with your actual code\n",
    "    vectordb.add_documents(texts[i:i+max_batch_size])\n",
    "    \n",
    "    # Update the progress bar\n",
    "    progress_bar.update(1)\n",
    "\n",
    "# Close the progress bar\n",
    "progress_bar.close()"
   ]
  },
  {
   "cell_type": "code",
   "execution_count": null,
   "metadata": {},
   "outputs": [],
   "source": []
  }
 ],
 "metadata": {
  "kernelspec": {
   "display_name": "env_LangChain",
   "language": "python",
   "name": "python3"
  },
  "language_info": {
   "codemirror_mode": {
    "name": "ipython",
    "version": 3
   },
   "file_extension": ".py",
   "mimetype": "text/x-python",
   "name": "python",
   "nbconvert_exporter": "python",
   "pygments_lexer": "ipython3",
   "version": "3.10.11"
  }
 },
 "nbformat": 4,
 "nbformat_minor": 2
}
