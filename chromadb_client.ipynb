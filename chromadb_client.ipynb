{
 "cells": [
  {
   "cell_type": "code",
   "execution_count": 1,
   "metadata": {},
   "outputs": [],
   "source": [
    "import chromadb\n",
    "from chromadb.config import Settings\n",
    "\n",
    "# 1. We are running chroma db in a client server mode\n",
    "# 2. To run a Sever execute the below code. This runs a server in the docker container. This can be on different machine\n",
    "#       docker pull ghcr.io/chroma-core/chroma:0.4.22\n",
    "#       docker run --detach -v C:\\Users\\shridhar\\Documents\\Shridhar\\Projects\\Langchain\\chromadb_data:/chroma/.chroma/index -p 8000:8000 ghcr.io/chroma-core/chroma:0.4.22\n",
    "#"
   ]
  },
  {
   "cell_type": "code",
   "execution_count": 2,
   "metadata": {},
   "outputs": [
    {
     "name": "stderr",
     "output_type": "stream",
     "text": [
      "c:\\Users\\shridhar\\Documents\\Shridhar\\Projects\\Langchain\\env_LangChain\\lib\\site-packages\\transformers\\utils\\generic.py:441: UserWarning: torch.utils._pytree._register_pytree_node is deprecated. Please use torch.utils._pytree.register_pytree_node instead.\n",
      "  _torch_pytree._register_pytree_node(\n",
      "c:\\Users\\shridhar\\Documents\\Shridhar\\Projects\\Langchain\\env_LangChain\\lib\\site-packages\\transformers\\utils\\generic.py:309: UserWarning: torch.utils._pytree._register_pytree_node is deprecated. Please use torch.utils._pytree.register_pytree_node instead.\n",
      "  _torch_pytree._register_pytree_node(\n"
     ]
    }
   ],
   "source": [
    "from langchain.embeddings import HuggingFaceEmbeddings\n",
    "from langchain import HuggingFacePipeline\n",
    "from langchain.chains import ConversationalRetrievalChain\n",
    "from langchain.memory import ConversationBufferMemory\n",
    "\n",
    "from langchain.vectorstores import Chroma\n",
    "import transformers\n",
    "from transformers import AutoTokenizer, AutoModelForCausalLM\n",
    "from transformers import pipeline\n",
    "from huggingface_hub import notebook_login\n",
    "import torch"
   ]
  },
  {
   "cell_type": "code",
   "execution_count": 3,
   "metadata": {},
   "outputs": [
    {
     "name": "stdout",
     "output_type": "stream",
     "text": [
      "Torch version:  2.2.1+cpu\n",
      "Chroma DB Version:  0.4.18\n"
     ]
    }
   ],
   "source": [
    "print(\"Torch version: \", torch.__version__)\n",
    "print(\"Chroma DB Version: \", chromadb.__version__)"
   ]
  },
  {
   "cell_type": "code",
   "execution_count": 4,
   "metadata": {},
   "outputs": [],
   "source": [
    "# Writing a function for creating embeddings\n",
    "\n",
    "# hugging_face_token = \"\n",
    "# notebook_login(hugging_face_token)\n",
    "model_name = './models/sentence-transformers/all-MiniLM-L12-v2'\n",
    "\n",
    "def get_embeddings(docs):\n",
    "    embedding_model = HuggingFaceEmbeddings(model_name=model_name)\n",
    "    embeddings = embedding_model.embed_documents(docs)\n",
    "    return embeddings"
   ]
  },
  {
   "cell_type": "code",
   "execution_count": 5,
   "metadata": {},
   "outputs": [
    {
     "data": {
      "text/plain": [
       "[Collection(name=case_file_collection)]"
      ]
     },
     "execution_count": 5,
     "metadata": {},
     "output_type": "execute_result"
    }
   ],
   "source": [
    "# 3. Run the client - This can be on another computer\n",
    "\n",
    "settings = Settings(anonymized_telemetry=False, \n",
    "                    allow_reset = False\n",
    "                    # ,chroma_db_impl=\"duckdb+parquet\"\n",
    "                     ,is_persistent=True\n",
    "                    )\n",
    "\n",
    "# chroma_client = chromadb.HttpClient(host=\"localhost\", port = 8000, settings = settings)\n",
    "chroma_client = chromadb.PersistentClient(path=\"C:\\\\Users\\\\shridhar\\\\Documents\\\\Shridhar\\\\Projects\\\\Langchain\\\\chromadb_data\\\\\")\n",
    "\n",
    "# anonymized_telemetry It collects usage information and sends to chroma. Setting it false doesnt send any usage information\n",
    "# allow_reset resets the whole database. Default value is false. But making it explicitly False for information purpose\n",
    "\n",
    "chroma_client.list_collections()"
   ]
  },
  {
   "cell_type": "code",
   "execution_count": 6,
   "metadata": {},
   "outputs": [],
   "source": [
    "chroma_client.delete_collection(name=\"case_file_collection\")"
   ]
  },
  {
   "cell_type": "code",
   "execution_count": 7,
   "metadata": {},
   "outputs": [],
   "source": [
    "# create a new collection or get collection if it is already created\n",
    "# case_file_collection = chroma_client.get_or_create_collection(name=\"case_file_collection\")\n",
    "case_file_collection = chroma_client.create_collection(name=\"case_file_collection\",\n",
    "                                                                metadata={\"hnsw:space\": \"cosine\"})"
   ]
  },
  {
   "cell_type": "code",
   "execution_count": 8,
   "metadata": {},
   "outputs": [
    {
     "data": {
      "text/plain": [
       "5461"
      ]
     },
     "execution_count": 8,
     "metadata": {},
     "output_type": "execute_result"
    }
   ],
   "source": [
    "chroma_client.max_batch_size"
   ]
  },
  {
   "cell_type": "code",
   "execution_count": 9,
   "metadata": {},
   "outputs": [],
   "source": [
    "from functools import reduce\n",
    "\n",
    "list_file_name = ['./case_files./case_file.txt', \n",
    "                  './case_files./H1B-Process.txt', \n",
    "                  \"./case_files./5022_2016_Judgement_06-Sep-2017.txt\",\n",
    "                  './case_files/41044_2011_Judgement_06-Sep-2017.txt',\n",
    "                  './case_files/39830_2016_Judgement_07-Sep-2017.txt'\n",
    "                  ]\n",
    "list_case_file_metadata = [{'case_no':\"139/2007\", 'case_type':\"Criminal\"}, \n",
    "                           {'case_no':\"None\", 'case_type':\"Immigration\"},\n",
    "                           {'case_no':\"None\", 'case_type':\"Immigration\"},\n",
    "                           {'case_no':\"None\", 'case_type':\"Immigration\"},\n",
    "                           {'case_no':\"None\", 'case_type':\"Immigration\"},\n",
    "                           \n",
    "                           ]\n",
    "list_case_files = []\n",
    "list_ids = reduce(lambda a, b: a+[str(b)], list(range(len(list_file_name))), [])\n",
    "\n",
    "\n",
    "\n",
    "\n",
    "for i in range(len(list_file_name)):\n",
    "    path = list_file_name[i]\n",
    "    file = open(path, mode = 'r')\n",
    "    case_file_data = file.read()\n",
    "    list_case_files.append(case_file_data)\n",
    "    file.close()"
   ]
  },
  {
   "cell_type": "code",
   "execution_count": 10,
   "metadata": {},
   "outputs": [
    {
     "name": "stderr",
     "output_type": "stream",
     "text": [
      "c:\\Users\\shridhar\\Documents\\Shridhar\\Projects\\Langchain\\env_LangChain\\lib\\site-packages\\transformers\\utils\\generic.py:309: UserWarning: torch.utils._pytree._register_pytree_node is deprecated. Please use torch.utils._pytree.register_pytree_node instead.\n",
      "  _torch_pytree._register_pytree_node(\n"
     ]
    }
   ],
   "source": [
    "embeddings = get_embeddings(list_case_files)"
   ]
  },
  {
   "cell_type": "code",
   "execution_count": 11,
   "metadata": {},
   "outputs": [
    {
     "name": "stdout",
     "output_type": "stream",
     "text": [
      "Number of documents =  5\n",
      "Embedding Dimension =  384\n",
      "Max batch Size =  5461\n"
     ]
    }
   ],
   "source": [
    "no_of_documents = len(embeddings)\n",
    "max_batch_size = chroma_client.max_batch_size\n",
    "print(\"Number of documents = \", no_of_documents)\n",
    "print(\"Embedding Dimension = \", len(embeddings[1]))\n",
    "print(\"Max batch Size = \", max_batch_size)"
   ]
  },
  {
   "cell_type": "code",
   "execution_count": 12,
   "metadata": {},
   "outputs": [],
   "source": [
    "for i in range(0, no_of_documents, max_batch_size):\n",
    "    case_file_collection.add(documents = list_case_files[i:i+max_batch_size], \n",
    "                             ids = list_ids[i:i+max_batch_size],\n",
    "                             embeddings = embeddings[i:i+max_batch_size],\n",
    "                             metadatas = list_case_file_metadata[i:i+max_batch_size],\n",
    "                             )\n",
    "# By default uses \"all-MiniLM-L6-v2 onnx\" this embedding model. Onnx is a common format for using models between different format"
   ]
  },
  {
   "cell_type": "code",
   "execution_count": 13,
   "metadata": {},
   "outputs": [
    {
     "data": {
      "text/plain": [
       "{'ids': [['0']],\n",
       " 'distances': [[0.5615436099163783]],\n",
       " 'metadatas': [[{'case_no': '139/2007', 'case_type': 'Criminal'}]],\n",
       " 'embeddings': None,\n",
       " 'documents': [[' \\n\\n\\n\\n\\n             (APPELLANT IS IN JAIL CUSTODY) \\n         IN THE HIGH COURT OF JHARKHAND AT RANCHI \\n            (CRIMINAL APPELLATE JURISDICTION ) \\n              Criminal Appeal No. 139/2007. \\n   \\n                             IN THE MATTER OF: \\n                             An application under \\n                             section 374(2) and 389(1) \\n                             of the Code of Criminal \\n                             Procedure\\n                                        AND \\n                             IN THE MATTER OF: \\n\\nRamesh Oraon, Son of- Late Mahto Oraon, \\nResident of Village- Murgu, Chaili toli, Police Station-\\n                                                Sisai, \\nDistrict- Gumla, Jharkhand.               Appellant. \\n                        VERSUS \\nThe State of Jharkhand.                   Opposite party. \\n                \\n\\n\\n\\n\\nTo, \\nTHE HON\\'BLE SRI M. KARPAGA VINAYAGAM, \\nTHE CHIEF JUSTICE OF THE HIGH COURT OF \\nJHARKHAND AT RANCHI AND HIS OTHER COMPANION \\nJUSTICES OF THE SAID HON\\'BLE COURT \\n                  The humble petition on \\n                  behalf of the appellant \\n                  above named ;\\n\\nMOST RESPECTFULLY SHEWETH :-\\n\\n1. That the instant appeal has been preferred by \\nthe appellant against the Judgement and Order of convic- \\n-tion dated 17-20/11/2006, passed by Sri Ramesh Kumar \\nSrivastava, Learned Additional Sessions Judge, Fast \\nTrack Court No.1, Gumla in Sessions Trial Case No.15/2006 \\nwhereby and whereunder the Learned trial court has been \\n\\n\\n\\n\\n\\npleased to find the appellant guilty for the offence \\nunder section 302/34 and sentenced him to undergo impri- \\n-sonment for life. \\n\\n2. That the appellant has not preferred any appeal \\nto this Hon\\'ble Court against the Judgement and \\nOrder of conviction prior to this. \\n\\n3. That the First Information Report in this instant \\ncase has been registered on the basis of written statement \\nof one Sant Kumar Oraon on 16.9.2005. \\n\\nThat the prosecution story in nutshell is that \\non 15.9.2005 his younger brother Vishwanath Oraon \\n(deceased) was dancing alongwith co-villagers Chawa Oraon \\n(deceased), Ramesh Oraon and Chotan Jhora, after consuming \\ncountry made liqour. Thereafter at about 9:30 p.m. \\n\\n\\n\\n\\n\\nco-villager Sushil Oraon came to the house of the \\n(informent) Sant Kumar Oraon and told that Vishwanath \\nOraon and Chawa Oraon have been murdered by Ramesh \\nOraon(Appellant), Chotan Jhora, Duti Devi and Sarsati \\nOraon by assaulting them with Lathi, Tangi, and a dagger. \\nThe dead body of Vishwanath Oraon is lying at the house \\nof Chotan Jhora and the dead body of Chawa Oraon is also \\nlying nearby. \\n\\nThe informent has further alleged that it was \\nalso told to him that both the deceased were taken from \\nthe place of playing Jhumar to the house of Chotan \\nJhora by Ramesh Oraon(Appellant) He has also alleged \\nthat on an enquiry he was told that by some villagers \\nthat they heard the wife of Chotan Jhora saying \"Keep \\nthem assaulting till they die\". The informant has also \\nexpressed his inability to spell out the motive behind \\nthe alleged occurrence. \\n\\n\\n\\n\\n\\n4. That the prosecution in order to establish its \\ncase has examined altogether eitht witnesses out of \\nwhich  :-  \\n\\nP.W.-1 Prakash Oraon:- This witness is the seizure \\nlist witness and has proved his signature upon \\nseizer memo made for the articles recovered \\nfrom the house of co-accused Chotan Oraon. \\nAt para-1 this witness has stated that \\nthe police arrived at the place of occurrence \\non the next day of the alleged occurrence and \\nseized blood stained Bhujali, Lathi and Tangi \\nfrom the house of accused Chotan Jhora. \\n\\nP.W.-2 Rajendra Lohra:- This witness is also a seizure \\nlist witness and has at Para-1 of his evidence \\nstated that the police recovered a Bhujali and \\nTangi from the house of Chotan Jhora whereas the \\n\\n\\n\\n\\n\\nLathi was recovered from the Bamboo bush of one \\nKapil Oraon. \\n\\nP.W.-3 Sandeep Oraon:- This witness is the brother of \\none of the deceased (Vishwanath Oraon) and is a \\nhearsay witness to the alleged occurrence. \\nAt Para-5 of his cross-examination he has \\nstated that there is no enimity between the accu- \\n-sed person and his family. \\n\\nP.W.-4 Jugesh Oraon :- This witness is also the brother \\nof one of the deceased (Vishwanath Oraon) and is \\na hearsay witness to the alleged occurrence. \\nAt Para-5 of his evidence he has stated that \\nhe was told by Sushil(P.W.-8) that Chotan Jhora, \\nRamesh Oraon, Duti Orain and Saraswati have given \\neffect to the alleged murder by assaulting the \\ndeceased persons. \\n\\n\\n\\n\\n\\nHe has also stated that in his cross exami- \\n-nation that the accused shared normal relation \\nwith his family.\\n\\nP.W.-5 Sant Kumar Oraon:- This witness is also the \\nbrother of one of the decaased Vishwanath Oraon \\nand is also a hearsay witness to the alleged \\noccurrence. \\n\\nAt Para 1 of his evidence he has stated that he \\ngot the information that the alleged occurrence \\nwas given effect by the accused persons through \\nSushil Oraon (P.W. 8). \\n\\nAt Para-7 of his cross examination he has stated \\nthat there was cordial relationship between the\\nfamily of Ramesh(Appellant) and his family. \\nHe has further stated that on the alleged \\ndate of occurrence all people were drunk. \\n\\n\\n\\n\\n\\nP.W.-6 Dr. Mahendra Kumar Singh:- This witness is the \\ndoctor who conducted Post Mortem examination on \\nthe dead body of the deceased Chawa Oraon and \\nVishwanath Oraon on 16.29.2005. \\n\\nP.W.-7 Ramjee Mahto:- This witness is the investigating \\nofficer of the case and at Para-3 of his evidence \\nstated that the formal inquest report is not \\npresent in the diary.\\n\\nAt Para-10 of his evidence he has stated that no \\nincriminating material has been recovered from \\nthe house of Ramesh Oraon (Appellant). \\n\\nP.W.-8 Sushil Oraon:- This witness is also the brother \\nof the deceased Vishwanath Oraon and is a hearsay \\nwitness to the alleged occurrence. \\n\\n\\n\\n\\n\\nAt Para-1 of his evidence he has stated that on \\ngetting the information about the alleged occurr- \\nence from one Ganga Oraon he went to the place \\nof occurrence. \\n\\nIn the same Para he has further stated that he \\ncame to know that one Chotan Jhora has given effect \\nto the alleged occurrence. \\n\\nHe has further stated that he is not aware as to \\nwho apart from Chotan Jhora had given effect to \\nthe alleged occurrence. \\n\\nIn his cross examination he has further stated \\nthat he is making hearsay statement. \\n\\n5. That the Learned Trial Court failed to take into \\nconsideration that there is no eye witness to the alleged \\noccurrence and the entire prosecution story relies hearing \\non circumstantial evidence. \\n\\n\\n\\n\\n\\n6. That the Learned Trial Court failed to take into \\nconsideration that apart from the formal witnesses all \\nthe other witnesses are highly interested and related \\nwitnesses and as such to rely on their testimony when they \\nhave not witnessed the actual occurrence is not a  \\nsafe preposition. \\n\\n7. That the Learned Trial Court failed to take into \\nconsideration that all the prosecution witnesses have \\nunanimously asserted that they came to know about the \\nappellants involvement in the alleged occurrence from \\nP.W.-8, but P.W. 8 who happens to be the only star witness \\nof the prosecution has not stated a word about the \\ninvolvement of this appellant(Ramesh Oraon) behind the \\nalleged occurrence. \\nHe has at Para-1 of his evidence stated that he \\ncame to know that the alleged occurrence was given effect \\nby one Chotan Jhora. \\n\\n\\n\\n\\n\\nIt is also pertinent to mention herein that no \\nrecovery of dead body as well as weapon of assault was \\nmade from the house of the Appellant rather the same was made \\nfrom the house of Chotan Jhora. \\n\\n8. That the Learned Trial Court failed to take into \\nconsideration that P.W.3/4 8, the star witness of the prose  \\ncution has stated that he got information about the \\nalleged occurrence from one Ganga Oraon. However, Ganga \\nOraon has not been examined by the prosecution and as \\nsuch the Appellant is entitled to the principle of optional \\npresumption under section 114 illustration \\n(G) of the Indian Evidence Act. \\n\\n9. That the Learned Trial Court failed to take into \\nconsideration that the prosecution has not been able to \\nassign any motive behind the alleged occurrence and as a \\n\\n\\n\\n\\n\\nmatter of fact all the witnesses have categorically \\nstated that the relationship between them and the appell  \\n-ant was cordial and as such without any motive and \\non the basis of hearsay evidence it is not proper to hold \\nthe Appellant guilty under section 302.\\n\\n10. That the Learned Trial Court failed to take into \\nconsideration that on the proper scrutiny of the deposition \\nof prosecution witnesses it transpires that there are \\nserious and material differences which strikes at the very \\nbase of prosecution\\'s claim behind the alleged occurrence \\nand as such it is not safe to  on their evidence. \\n\\n11. That the appellant has been at along in jail,.\\n             Being aggrieved and dissatisfied with \\n             the Judgement and Order dated 17-20. \\n             11.2006, passed by Sri Ramesh Kumar \\n             Srivastava, Learned Additional \\n             Sessions Judge, Gumla, in Sessions \\n             Trial No. 15/2006, the appellant \\n\\n\\n\\n\\n\\n             above named beg to move before this \\n             Hon\\'ble Court all amongst others the \\n             followings grounds:-\\n\\nGROUNDS:- \\n\\n(i) For that the Impugned Order and sentence \\npassed by the Learned Additional Sessions Judge \\nis not at all maintainable in the facts and \\ncircumstances involved in this case. \\n\\n(ii) For that the Impugned Order and sentence passed \\nby the concerned Court below is unjust, improper, \\nbad and illegal in the eye of law. \\n\\n(iii) For that the Learned Court below has passed the \\nJudgement and sentence in utter violation of the \\nexisting law and without applying the judicial \\nmind mechanically and in most irregular manner. \\n\\n\\n\\n\\n\\n(iv) For that the Learned Court below has not taken \\ninto consideration the serious contradiction \\nmade by the Prosecution Witnesses in their Exa-  \\n-mination/Deposition. \\n\\n(v) For that Learned Court below has passed the \\nImpugned Judgement and Order of Sentence mecha- \\n-nically without applying the judicial mind and \\nwithout following the prescribe norms and laws \\nof the procdedure. \\n\\n(vi) For that the other and further grounds shall be \\nurged at the time of hearing of this cases. \\n\\n(vii) For that the Learned Trial Court has not taken \\ninto consideration that the medical evidence is \\nnot consistant to the statement of the informent \\n\\n\\n\\n\\n\\n(viii) For that the Learned Trial Court has also not \\ntaken into consideration that the statement of \\nthe informent has not been supported by any \\nother independent witness. \\n\\n(ix) For that the Learned Trial Court has also not \\ntaken into consideration that the statement of \\nsole eye witness is also contradictory. \\n\\n(x) For that the appellant was not examined properly \\nunder section 313 of the Code of Criminal \\nProcedure and relevant questions were put to \\nhim. \\n            It is therefore prayed that Your \\n            Lordships be very graciously \\n            pleased to admit this appeal, call \\n            for the Lower Court record of \\n\\n\\n\\n\\n\\n            Sessions Trial Case No. 15/2006 from \\n            the Court of Learned Additional Sessions\\n            Judge Fask Track Court No.1 Gumla, notice the \\n            respondent, and on hearing, set aside the \\n            Impugned Judgement of Conviction and Sentence \\n            dt. 17-20/11/2006. \\n                         A N D/O R \\n            Pass such other order/orders as Your \\n            Lordships may deem fit and proper under \\n            the facts and circumstances of this \\n            case. \\n                         A N D \\n            It is further prayed that Your Lord- \\n            ships be pleased to admit the appell- \\n            ant on bail. \\nAnd for this act of kindness the appellant shall ever pray. \\n\\n\\n\\n\\n\\n               AFFIDAVIT \\n\\nI, Jitesh Oraon Son of Etwa Oraon \\nResident of Telgaon Kumba to Police Station  \\nDistrict Gumla do hereby solemnly affirm and \\nstates as follows:- \\n\\n1. That I am the pairvikar of the petitioner in this \\ncase and as such well acquainted with the facts and cirs \\ncumstances of the case.\\n\\n2. That the contents of this petition and affidavit \\nhave been read over and explained to me in Hindi which I \\nfully understood the same. \\n\\n3. That the statements made in paragraphs 2 and 11 \\nare true to the best of my knowledge and those made in \\nparagraphs 1,3,4 are derived from the record of \\nthe case, which I fully understood the same. \\n\\n4. That the annexures are the Xerox/Certified copies \\nof its originals.\\n\\n5. That I Have signed and verified this affidavit on \\n5.2.07 at Ranchi. \\n\\n\\n\\n']],\n",
       " 'uris': None,\n",
       " 'data': None}"
      ]
     },
     "execution_count": 13,
     "metadata": {},
     "output_type": "execute_result"
    }
   ],
   "source": [
    "question = \"Get a case from Bombay High Court?\"\n",
    "answers = case_file_collection.query(query_texts = question, n_results=3, where={\"case_no\": \"139/2007\"})\n",
    "answers"
   ]
  },
  {
   "cell_type": "code",
   "execution_count": 16,
   "metadata": {},
   "outputs": [],
   "source": [
    "def get_context(query):\n",
    "    settings = Settings(anonymized_telemetry=False, \n",
    "                    allow_reset = False\n",
    "                    # ,chroma_db_impl=\"duckdb+parquet\"\n",
    "                        ,is_persistent=True\n",
    "                    )\n",
    "\n",
    "    # chroma_client = chromadb.HttpClient(host=\"localhost\", port = 8000, settings = settings)\n",
    "    chroma_client = chromadb.PersistentClient(path=\"C:\\\\Users\\\\shridhar\\\\Documents\\\\Shridhar\\\\Projects\\\\Langchain\\\\chromadb_data\\\\\")\n",
    "    case_file_collection = chroma_client.get_collection(\"case_file_collection\")\n",
    "    query_embeddings = get_embeddings(query)\n",
    "    result = case_file_collection.query(query_embeddings = query_embeddings, n_results = 1)\n",
    "    return result"
   ]
  },
  {
   "cell_type": "code",
   "execution_count": 19,
   "metadata": {},
   "outputs": [
    {
     "data": {
      "text/plain": [
       "{'ids': [['1']],\n",
       " 'distances': [[0.5985772903915532]],\n",
       " 'metadatas': [[{'case_no': 'None', 'case_type': 'Immigration'}]],\n",
       " 'embeddings': None,\n",
       " 'documents': [['The H1B Visa Explained\\nUnderstanding the H1B Visa for working in the United States\\nH1B Visa Sample\\nWhat Is the H1B visa\\nThe H1B visa is a nonimmigrant work visa that allows US employers to hire foreign workers with specialized skills to work in the United States for a specific period of time Typically the roles require a bachelors degree or equivalent Occupations that qualify for the H1B visa are typically in fields such as technology finance engineering architecture or more\\n\\nImportant\\nUS Citizenship and Immigration Services USCIS announced it would hold a second lottery for the H1B visa program for FY 2024 Learn more here\\n\\nAccess our unified solutions online anytime anywhere Schedule a demo\\nGET STARTED\\nLearn More\\nH1B Visa Eligibility\\nIn order to be eligible for the H1B visa you will need\\n\\nA valid job offer from a US employer for a role that requires specialty knowledge\\nProof of a bachelors degree or equivalent experience in that field\\nYour employer must show that there is a lack of qualified US applicants for the role\\nForm I129 Petition for a Nonimmigrant Worker 2023 \\nUnderstanding The H1B Visa Cap\\nBefore you can enter the United States under the H1B classification and begin work you may need to register with US Citizenship and Immigration Services USCIS and be selected to apply\\n\\nBecause there is a lot of demand for this visa there is a limited number of visas that can be issued each year In 2023 the cap is at 65000 visas per fiscal year However if you have a masters degree from a US institution youre in luck there are an extra 20000 visas available for those who have a masters degree or higher If the employer sponsoring you is an institution of higher education a nonprofit organization connected to an institute of higher education or a government research organization then the visa cap does not apply\\n\\nIf you are hoping to file for an H1B visa and your occupation is subject to the cap then you will need to register with USCIS electronically to enter a lottery To do this you will need to create an online account with USCIS If you already have a myUSCIS online account then you will still need to create a separate account for the registration process\\n\\nYour workforce Their Families Our Expertise\\nAccess our unified solutions online anytime anywhere\\n\\nThen you will need to pay a registration fee and fill in basic information about the company that is sponsoring you as well as a few details about yourself Alternatively an attorney or representative can create an account and register on your behalf\\n\\nThe registration period only runs for 14 days each year If you dont register but your occupation is not exempt from the cap you will not be able to apply for the H1B visa\\n\\nOnce you have registered you will be able to see your status in your USCIS account If an attorney or a representative has filed for you they will be able to see your status in their account\\n\\nThe account will show your status as one of the following\\n\\nSubmitted You have submitted your registration and it is valid\\nSelected You are able to apply for an H1B visa\\nNot Selected You were not selected to apply for an H1B visa this time\\nDenied If you register for the chance to apply for an H1B visa with the same employer multiple times USCIS will deem all your registrations invalid\\nInvalidatedFailed Payment You registered but your payment didnt go through\\nOnce the registration period has finished USCIS will let you know if you have been selected Your registration must be selected if you want to apply for an H1B visa unless you are eligible for an exemption If you are not selected USCIS will let you or your representative know once the H1B cap has been reached that year\\n\\nRELATED ARTICLE\\nH1B Trends and Impacts Report 2023\\nHow Much Does the H1B Visa Cost\\nThe cost to register for the H1B lottery is 10 If the applicant is selected for an H1B visa the employer will then have to pay 460 to file Form I129 Petition for Nonimmigrant Worker Beyond that the costs can vary depending on the size of the company costs to expedite the application whether or not the H1B applicant is changing employers and attorney fees\\n\\nImportant\\nThe government filing fees for most visa applications could increase significantly in late 2023early 2024 The current proposed cost to file Form I129 is slated to increase from 460 to 1385a 201 increase The preregistration fee could also increase by 2050 from 10 to 215\\n\\nBoundless helps businesses build comprehensive immigration strategies\\nGet Started\\nThe H1B Visa Process\\nOnce you have been selected to apply for the H1B visa your employer can begin the process by filing a petition on your behalf\\n\\nTo do this your employer will need to submit a Labor Condition Application LCA to the Department of Labor DOL for Certification The purpose of the LCA is to confirm that your employer will pay you the same wage as other similarly qualified workers in the same geographic area and that your working conditions will not affect other employees\\n\\nOnce the LCA has been certified by the DOL your employer will have to complete Form I129 Petition for a Nonimmigrant Worker and file both the LCA and the I129 to USCIS along with any fees and additional documentation These other documents may include evidence of your education any training certificates or professional membership documents if relevant your resume a confirmation letter of employment a letter of support and any necessary fees\\n\\nIf your Form I129 is approved then there are two options for you depending on whether you are in the United States already or not\\n\\nIf you are within the United States on a different visa category you must wait until your H1B visa status becomes active in order for you to start working\\n\\nIf you are outside the United States then you will need to apply for consular processing To do this you will need to complete Form DS160 which will take around 90 minutes to fill in You will also need to pay the application fee and schedule an interview at a US embassy or consulate near you\\n\\nOnce you have arranged an interview you will need to bring documents such as\\n\\nYour passport This should be valid for at least six months beyond your intended date of entry to the United States\\nA printout of the confirmation page from your Form DS160\\nA copy of your approved I129 petition and your I797 approval\\nReceipts showing you have paid your application fees\\nA passportsized photo of you that follows US State Department requirements\\nDuring your interview you may be asked questions about yourself the job your experience the employer and your travel history\\n\\nWhats Next\\nCurrently H1B visa holders may apply for a green card However there may be lengthy delays This means that any children who moved with you may age out of their visa status which is tied to your H1B visa Under the current system if they turn 21 before their green card is approved they will need to apply for another visa to stay such as a student visa The Biden administration may remove this and also make it easier for dependents of H1B visa holders to gain work authorization\\n\\nIf youre planning to transition from an H1B visa to a family or marriage green card Boundless can help you navigate the process Learn more about how Boundless can help you make the switch smoothly\\n\\nH1B FAQs\\n\\nWhen can I register electronically for the H1B lottery and when will I know the results\\nThe dates vary each year in 2023 USCIS announced that people could register for the H1B lottery from March 1 through 17th and that it would let people know if they had been selected to file for an H1B visa by March 31 2023\\n\\n\\nHow do I check the results of the H1B lottery\\nTo see if you are eligible to file for an H1B visa you can check your USCIS online account The account will show the status of your application\\n\\n\\nCan I expedite my H1B visa\\nYes premium processing is available for the H1B visa To request premium processing you will need to submit Form I907 Request for Premium Processing Service and pay the filing fee to USCIS You can do this at the same time as you file your Form I129 petition\\n\\nIf you have already filed your petition you can request premium processing at a later date by sending your form to the same service center as your original Form I129\\n\\n\\nCan I travel outside the US on an H1B visa\\nHaving a valid visa allows you to go to a US port of entry and request entry to the US If you leave the US for travel and return as long as your H1B visa is still valid you may be able to be admitted on H1B status You may wish to bring evidence of your employment or your visa validity with you to present at the border\\n\\n\\nWhen can I start filing my H1B visa application\\nIf your H1B visa is subject to the cap you will need to register online first You should keep in mind that being selected in the lottery allows you to apply for a visa for the following financial year\\n\\nIf you are selected you and your employer can petition for a H1B visa on your behalf You can expect to have around 90 days to apply for your visa but the filing period and location will be on your H1B Registration Selection Notice from USCIS You can apply for your visa up to six months before your visa start date\\n\\n\\nWhere do I file my H1B visa application\\nIf your H1B visa is under the cap and you have been selected to apply for a visa your selection notice will let you know which USCIS address you can file your application at If the H1B visa cap does not apply to you for example if you are being employed by an institute of higher education then you can file your application at the USCIS California service center\\n\\n\\nCan I extend my H1B visa\\nYour H1B visa is generally valid for three years and can usually be extended for up to six years To do this your employer will need to complete and file Form I129 again on your behalf along with any supporting documents and pay the filing fee\\n\\n\\nCan I transition from an H1B visa to a green card\\nThe H1B visa is a dualintent visa which means that yes you can apply for a green card Find out more about how Boundless can help you through the process\\n\\n\\nWho can sponsor the H1B visa\\nAny USbased employer can sponsor the H1B visa As long as the employer has an IRS Tax ID Number they can register to file a petition on your behalf\\n\\n\\nCan I apply for an H1B visa if I dont have a job first\\nBecause the H1B visa is an employmentbased visa and you will need your employer to file certain forms for you you will need a job offer before you are eligible to apply for the H1B visa\\n\\n\\nIs there a ban on H1B visas\\nNo In June 2020 President Trump issued an executive order stopping H1B visas from being processed That executive order has now expired and you can now continue preparing your H1B visa application\\n\\n\\nWill my family be able to come with me if I hold an H1B visa\\nYes your spouse and any unmarried children under the age of 21 may be able to accompany you on H4 visas Learn more about the H4 process in Boundless guide\\n\\n\\nHow long will I be able to stay and work in the US on an H1B visa\\nThe H1B visa is valid for three years and can be extended for up to six\\n\\n\\nCan my spouse work\\nIt depends If your spouse holds an H4 visa they may be able to apply for employment authorization if you the H1B visa holder is on track to get a green card Learn more in our H4 guide\\n\\n\\nWhat is the difference between the H1B and H1B cap\\nThe government sets a cap on the number of H1B visas it issues each year Currently the cap is 65000 visas per fiscal year with 20000 additional visas available for those who have a masters degree or higher\\n\\n\\nWho is eligible for the H1B1 visa\\nThe H1B1 is a US nonimmigrant visa for nationals of Chile and Singapore who work in specialty occupations The annual cap for H1B1 visas is 6800  1400 from Chile and 5400 from Singapore\\n\\n\\nWhat is the minimum salary to file for an H1B visa\\nThe employer filing the H1B petition must show the Department of Labor DOL proof they will pay the employee the prevailing wage or the employers actual wage whichever wage is higher The prevailing wage is the salary paid to workers in similar occupations in the same geographic area while the actual wage is the salary the employer pays to its workers in similar positions\\n\\n\\nWhat happens if I lose my job while on an H1B visa\\nIf you are on an H1B visa and lose your job due to layoffs or an economic downturn in the United States you will immediately fall out of status However there is a 60day grace period from the time you were terminated until youre required to return to your home country Additionally H1B workers may be able to switch employers without losing their visa status under certain conditions Learn about what to do if you lose your job while on a work visa\\n\\n\\nDo I need a lawyer to file an H1B extension\\nDepending on the complexity of your case or if you simply want additional peace of mind during the extension process it may be helpful to enlist an immigration lawyers help for your H1B extension application Lawyers can help you navigate the extension forms and H1B requirements from start to finish If youre not sure whether an immigration lawyer is the best option for your H1B extension Boundless put together a detailed guide on when to hire an attorney for your visa process here\\n']],\n",
       " 'uris': None,\n",
       " 'data': None}"
      ]
     },
     "execution_count": 19,
     "metadata": {},
     "output_type": "execute_result"
    }
   ],
   "source": [
    "query = [\"Am I elligible for H1B?\"]\n",
    "get_context(query)"
   ]
  },
  {
   "cell_type": "code",
   "execution_count": null,
   "metadata": {},
   "outputs": [],
   "source": [
    "case_file_collection.query()"
   ]
  }
 ],
 "metadata": {
  "kernelspec": {
   "display_name": "env_LangChain",
   "language": "python",
   "name": "python3"
  },
  "language_info": {
   "codemirror_mode": {
    "name": "ipython",
    "version": 3
   },
   "file_extension": ".py",
   "mimetype": "text/x-python",
   "name": "python",
   "nbconvert_exporter": "python",
   "pygments_lexer": "ipython3",
   "version": "3.10.11"
  }
 },
 "nbformat": 4,
 "nbformat_minor": 2
}
