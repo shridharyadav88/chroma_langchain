{
 "cells": [
  {
   "cell_type": "code",
   "execution_count": null,
   "metadata": {},
   "outputs": [],
   "source": [
    "# pip3 install -q google-generativeai "
   ]
  },
  {
   "cell_type": "code",
   "execution_count": null,
   "metadata": {},
   "outputs": [],
   "source": [
    "from config import OPENAI_API_KEY, GOOGLE_AI_API_KEY\n",
    "import json\n",
    "import pickle\n",
    "import re\n",
    "import asyncio\n",
    "import datetime\n",
    "from openai import OpenAI\n",
    "from langchain.chat_models import ChatGooglePalm\n",
    "from langchain.chains import ConversationChain\n",
    "from langchain.memory import ConversationSummaryBufferMemory\n",
    "from langchain.prompts import ChatPromptTemplate"
   ]
  },
  {
   "cell_type": "code",
   "execution_count": null,
   "metadata": {},
   "outputs": [],
   "source": [
    "def load_case_file(case_file_name = \"./case_file.txt\"):\n",
    "    with open(case_file_name, mode='r') as file:\n",
    "        list_lines = file.readlines()\n",
    "    pattern_clean = re.compile(\"\\n|---page_breaker---|\")\n",
    "    case_text = pattern_clean.sub(\"\", \" \".join(list_lines))\n",
    "    return case_text"
   ]
  },
  {
   "cell_type": "code",
   "execution_count": null,
   "metadata": {},
   "outputs": [
    {
     "name": "stderr",
     "output_type": "stream",
     "text": [
      "c:\\Users\\shridhar\\Documents\\Shridhar\\Projects\\Langchain\\env_LangChain\\lib\\site-packages\\tqdm\\auto.py:21: TqdmWarning: IProgress not found. Please update jupyter and ipywidgets. See https://ipywidgets.readthedocs.io/en/stable/user_install.html\n",
      "  from .autonotebook import tqdm as notebook_tqdm\n"
     ]
    }
   ],
   "source": [
    "llm = ChatGooglePalm(google_api_key=GOOGLE_AI_API_KEY, temperature=0.0)"
   ]
  },
  {
   "cell_type": "code",
   "execution_count": 76,
   "metadata": {},
   "outputs": [],
   "source": [
    "summary_memory = ConversationSummaryBufferMemory(llm=llm, max_token_limit=20)\n",
    "conversation_summary = ConversationChain(llm=llm, memory=summary_memory, verbose=True)\n"
   ]
  },
  {
   "cell_type": "code",
   "execution_count": 66,
   "metadata": {},
   "outputs": [],
   "source": [
    "case_text = load_case_file('./case_files/case_file.txt')\n",
    "promt_template_case_file = ChatPromptTemplate.from_template(\"Below is a case file: {case_text}\")\n",
    "summary_memory.save_context({\"input\":promt_template_case_file.format_messages(case_text= case_text[:1000])}, {\"output\":\"ok\"})\n",
    "summary_memory.save_context({\"input\":promt_template_case_file.format_messages(case_text= case_text[1000:])}, {\"output\":\"ok\"})\n"
   ]
  },
  {
   "cell_type": "code",
   "execution_count": 70,
   "metadata": {},
   "outputs": [],
   "source": [
    "questions = \"\"\"\n",
    "1: LAWS INVOLVED\n",
    "2: Who is the informant or complainant\n",
    "3: What is the name of the victim\n",
    "4: What is the date or of the commitment of the offence\n",
    "5: What is the place of occurrence of the offence\n",
    "6: How much time was taken by the police to reach the place of occurrence after\n",
    "the receipt of information of commission of the offence\n",
    "7: What is the name of the accused arrested at the spot\n",
    "8: What was the manner of assault\n",
    "9: What is the description of the weapon used during the occurrence of the offence\n",
    "10: What is the description of the specific overt act performed by of the accused\n",
    "person(s)\n",
    "11: Who identified the body of the deceased\n",
    "12: What was the statement of the accused person(s) under section 313 Cr.P.C on\n",
    "examination.\n",
    "\"\"\"\n",
    "\n",
    "\n",
    "prompt = \"\"\"For the below case file answer these questions. If you dont know the answer from the context say \"I dont know\". Do not make up the answer.\n",
    "Questions:{questions}\"\n",
    "\n",
    "Format the output as JSON with the question as key and answer as the value\n",
    "\"\"\"\n",
    "\n",
    "promt_template_question = ChatPromptTemplate.from_template(prompt).format_prompt(questions = questions)"
   ]
  },
  {
   "cell_type": "code",
   "execution_count": 71,
   "metadata": {},
   "outputs": [
    {
     "name": "stdout",
     "output_type": "stream",
     "text": [
      "\n",
      "\n",
      "\u001b[1m> Entering new ConversationChain chain...\u001b[0m\n",
      "Prompt after formatting:\n",
      "\u001b[32;1m\u001b[1;3mThe following is a friendly conversation between a human and an AI. The AI is talkative and provides lots of specific details from its context. If the AI does not know the answer to a question, it truthfully says it does not know.\n",
      "\n",
      "Current conversation:\n",
      "System: The following is a summary of the case file:\n",
      "\n",
      "The case is about Ramesh Oraon, who is appealing his conviction for murder. Oraon claims that he was framed by the police, and that he did not commit the crime. The AI summarizes the evidence presented in the case, and concludes that there is reasonable doubt as to Oraon's guilt. The AI recommends that the court overturn Oraon's conviction and order a new trial.\n",
      "\n",
      "The case involves the following laws:\n",
      "\n",
      "* Indian Penal Code (IPC) Section 302: Murder\n",
      "* IPC Section 304(b): Culpable homicide not amounting to murder\n",
      "\n",
      "The informant or complainant is Ramesh Oraon.\n",
      "\n",
      "The name of the victim is Ram.\n",
      "\n",
      "The date of the commitment of the offence is 2023-02-25.\n",
      "\n",
      "The place of occurrence of the offence is Rameshwaram.\n",
      "\n",
      "The time taken by the police to reach the place of occurrence after the receipt of information of commission of the offence is 10 minutes.\n",
      "\n",
      "The name of the accused arrested at the spot is Rameshwar Oraon.\n",
      "\n",
      "The manner of assault was that the accused stabbed the victim multiple times with a knife.\n",
      "\n",
      "The description of the weapon used during the occurrence of the offence is a knife.\n",
      "\n",
      "The description of the specific overt act performed by of the accused person(s) is that the accused stabbed the victim multiple times with a knife.\n",
      "\n",
      "The person who identified the body of the deceased is Ramesh Oraon.\n",
      "\n",
      "The statement of the accused person(s) under Section 313 Cr.P.C on examination is that the accused denied the charges against him and claimed that he was framed by the police.\n",
      "\n",
      "The AI concludes that the prosecution's case is weak. The AI points out that the witnesses' testimony is not credible, as they all have a motive to lie. The AI also points out that the doctor's testimony is not conclusive, as it is possible that the victims were killed by someone else. The AI concludes that the evidence presented by the prosecution is insufficient to prove Oraon's guilt beyond a reasonable doubt.\n",
      "Human: Human: For the below case file answer these questions. If you dont know the answer from the context say \"I dont know\". Do not make up the answer.\n",
      "Questions:\n",
      "1: LAWS INVOLVED\n",
      "2: Who is the informant or complainant\n",
      "3: What is the name of the victim\n",
      "4: What is the date or of the commitment of the offence\n",
      "5: What is the place of occurrence of the offence\n",
      "6: How much time was taken by the police to reach the place of occurrence after\n",
      "the receipt of information of commission of the offence\n",
      "7: What is the name of the accused arrested at the spot\n",
      "8: What was the manner of assault\n",
      "9: What is the description of the weapon used during the occurrence of the offence\n",
      "10: What is the description of the specific overt act performed by of the accused\n",
      "person(s)\n",
      "11: Who identified the body of the deceased\n",
      "12: What was the statement of the accused person(s) under section 313 Cr.P.C on\n",
      "examination.\n",
      "\"\n",
      "\n",
      "Format the output as JSON with the question as key and answer as the value\n",
      "\n",
      "AI:\u001b[0m\n",
      "\n",
      "\u001b[1m> Finished chain.\u001b[0m\n"
     ]
    }
   ],
   "source": [
    "response = conversation_summary.predict(input = promt_template_question.to_string())\n",
    "response_json = json.JSONDecoder().decode(response.replace('\\n', \"\").replace(',}', \"}\"))"
   ]
  },
  {
   "cell_type": "code",
   "execution_count": 72,
   "metadata": {},
   "outputs": [
    {
     "data": {
      "text/plain": [
       "{'LAWS INVOLVED': ['Indian Penal Code (IPC) Section 302: Murder',\n",
       "  'IPC Section 304(b): Culpable homicide not amounting to murder'],\n",
       " 'informant or complainant': 'Ramesh Oraon',\n",
       " 'name of the victim': 'Ram',\n",
       " 'date of the commitment of the offence': '2023-02-25',\n",
       " 'place of occurrence of the offence': 'Rameshwaram',\n",
       " 'time taken by the police to reach the place of occurrence after the receipt of information of commission of the offence': '10 minutes',\n",
       " 'name of the accused arrested at the spot': 'Rameshwar Oraon',\n",
       " 'manner of assault': 'The accused stabbed the victim multiple times with a knife',\n",
       " 'description of the weapon used during the occurrence of the offence': 'a knife',\n",
       " 'description of the specific overt act performed by of the accused person(s)': 'The accused stabbed the victim multiple times with a knife',\n",
       " 'person who identified the body of the deceased': 'Ramesh Oraon',\n",
       " 'statement of the accused person(s) under Section 313 Cr.P.C on examination': 'The accused denied the charges against him and claimed that he was framed by the police'}"
      ]
     },
     "execution_count": 72,
     "metadata": {},
     "output_type": "execute_result"
    }
   ],
   "source": [
    "response_json"
   ]
  },
  {
   "cell_type": "code",
   "execution_count": 77,
   "metadata": {},
   "outputs": [],
   "source": [
    "h1b_eligible = \"\"\"\n",
    "Eligibility Criteria: \n",
    "To be eligible for an H1B visa, you must:\n",
    "\n",
    "* Have a bachelor's degree or its equivalent in a specific field of study.\n",
    "* Have a job offer from a U.S. employer in a specialty occupation that requires a bachelor's degree or its equivalent.\n",
    "* Be a member of the professions listed in the U.S. Department of Labor's Occupational Outlook Handbook.\n",
    "* Be able to speak, read, and write English.\n",
    "* Not be inadmissible to the United States.\n",
    "\n",
    "If you meet all of these requirements, you may be eligible to apply for an H1B visa\"\"\"\n",
    "summary_memory.save_context({\"input\":h1b_eligible},  {\"output\":\"ok\"})"
   ]
  },
  {
   "cell_type": "code",
   "execution_count": null,
   "metadata": {},
   "outputs": [],
   "source": [
    "conversation_summary.predict(input = \"\")"
   ]
  },
  {
   "cell_type": "code",
   "execution_count": 4,
   "metadata": {},
   "outputs": [
    {
     "data": {
      "text/plain": [
       "{'c'}"
      ]
     },
     "execution_count": 4,
     "metadata": {},
     "output_type": "execute_result"
    }
   ],
   "source": [
    "x = {\"a\", \"b\", \"c\"}\n",
    "y = {\"c\", \"d\", \"e\"}\n",
    "z = {\"f\", \"g\", \"c\"}\n",
    "\n",
    "set.intersection(x, y, z)"
   ]
  },
  {
   "cell_type": "code",
   "execution_count": null,
   "metadata": {},
   "outputs": [],
   "source": []
  }
 ],
 "metadata": {
  "kernelspec": {
   "display_name": "env_LangChain",
   "language": "python",
   "name": "python3"
  },
  "language_info": {
   "codemirror_mode": {
    "name": "ipython",
    "version": 3
   },
   "file_extension": ".py",
   "mimetype": "text/x-python",
   "name": "python",
   "nbconvert_exporter": "python",
   "pygments_lexer": "ipython3",
   "version": "3.10.11"
  }
 },
 "nbformat": 4,
 "nbformat_minor": 2
}
